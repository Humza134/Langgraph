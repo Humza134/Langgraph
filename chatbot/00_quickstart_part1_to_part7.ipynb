{
  "nbformat": 4,
  "nbformat_minor": 0,
  "metadata": {
    "colab": {
      "provenance": [],
      "authorship_tag": "ABX9TyO1ddSLcQksF1VS1C7ZDV3J"
    },
    "kernelspec": {
      "name": "python3",
      "display_name": "Python 3"
    },
    "language_info": {
      "name": "python"
    }
  },
  "cells": [
    {
      "cell_type": "code",
      "execution_count": null,
      "metadata": {
        "id": "l3JRCJwp4c9J"
      },
      "outputs": [],
      "source": [
        "%%capture --no-stderr\n",
        "%pip install -U langgraph langsmith langchain_google_genai"
      ]
    },
    {
      "cell_type": "code",
      "source": [
        "import os\n",
        "from google.colab import userdata\n",
        "\n",
        "os.environ[\"LANGCHAIN_API_KEY\"] = userdata.get(\"LANGCHAIN_API_KEY\")\n",
        "os.environ[\"LANGCHAIN_TRACING_V2\"] = \"true\"\n",
        "os.environ[\"LANGCHAIN_PROJECT\"] = \"qucikstart\"\n",
        "\n",
        "gemini_api_key = userdata.get(\"GEMINI_API_KEY\")"
      ],
      "metadata": {
        "id": "9bvV0QJg5I9q",
        "collapsed": true
      },
      "execution_count": null,
      "outputs": []
    },
    {
      "cell_type": "code",
      "source": [
        "import os\n",
        "from google.colab import userdata\n",
        "gemini_api_key = userdata.get(\"GEMINI_API_KEY\")"
      ],
      "metadata": {
        "id": "OKhyWKnrfYc0"
      },
      "execution_count": null,
      "outputs": []
    },
    {
      "cell_type": "code",
      "source": [
        "from langchain_google_genai import ChatGoogleGenerativeAI\n",
        "\n",
        "llm:ChatGoogleGenerativeAI = ChatGoogleGenerativeAI(\n",
        "    model = \"gemini-1.5-flash\",\n",
        "    max_retries = 2,\n",
        "    api_key = gemini_api_key\n",
        ")\n",
        "\n",
        "llm.invoke(\"greet me\")"
      ],
      "metadata": {
        "id": "Sa-IPomn5qG7",
        "colab": {
          "base_uri": "https://localhost:8080/"
        },
        "outputId": "a7535eaa-aab4-4d77-9aa6-845d7f16e5f6"
      },
      "execution_count": null,
      "outputs": [
        {
          "output_type": "execute_result",
          "data": {
            "text/plain": [
              "AIMessage(content='Hello! How can I help you today? \\n', additional_kwargs={}, response_metadata={'prompt_feedback': {'block_reason': 0, 'safety_ratings': []}, 'finish_reason': 'STOP', 'safety_ratings': [{'category': 'HARM_CATEGORY_SEXUALLY_EXPLICIT', 'probability': 'NEGLIGIBLE', 'blocked': False}, {'category': 'HARM_CATEGORY_HATE_SPEECH', 'probability': 'NEGLIGIBLE', 'blocked': False}, {'category': 'HARM_CATEGORY_HARASSMENT', 'probability': 'NEGLIGIBLE', 'blocked': False}, {'category': 'HARM_CATEGORY_DANGEROUS_CONTENT', 'probability': 'NEGLIGIBLE', 'blocked': False}]}, id='run-412bd56e-a42c-43e5-a77b-c6977f6a6c29-0', usage_metadata={'input_tokens': 3, 'output_tokens': 10, 'total_tokens': 13, 'input_token_details': {'cache_read': 0}})"
            ]
          },
          "metadata": {},
          "execution_count": 3
        }
      ]
    },
    {
      "cell_type": "markdown",
      "source": [
        "# Part 1: Build A Basic Chatbot:"
      ],
      "metadata": {
        "id": "Dl7TdCg3CCwk"
      }
    },
    {
      "cell_type": "code",
      "source": [
        "from typing import Annotated\n",
        "\n",
        "from typing_extensions import TypedDict\n",
        "\n",
        "from langgraph.graph import StateGraph, START, END\n",
        "from langgraph.graph.message import add_messages\n",
        "\n",
        "\n",
        "class State(TypedDict):\n",
        "    # Messages have the type \"list\". The `add_messages` function\n",
        "    # in the annotation defines how this state key should be updated\n",
        "    # (in this case, it appends messages to the list, rather than overwriting them)\n",
        "    messages: Annotated[list, add_messages]\n",
        "\n",
        "\n",
        "graph_builder = StateGraph(State)"
      ],
      "metadata": {
        "id": "6xSS9CWS6kdU"
      },
      "execution_count": null,
      "outputs": []
    },
    {
      "cell_type": "code",
      "source": [
        "## Example usange of add_messages\n",
        "\n",
        "new_messages_1 = [{\"role\": \"user\", \"content\": \"Hello\"}]\n",
        "new_messages_2 = [{\"role\": \"ai\", \"content\": \"Hi there\"}]\n",
        "\n",
        "messages = add_messages(new_messages_1, new_messages_2)\n",
        "print(\"Updated State 1: \", messages)"
      ],
      "metadata": {
        "id": "YcHgWJPk7G-4",
        "colab": {
          "base_uri": "https://localhost:8080/"
        },
        "outputId": "5a1d3c7e-50f1-4c8a-99d5-d2d3ff25b7fb"
      },
      "execution_count": null,
      "outputs": [
        {
          "output_type": "stream",
          "name": "stdout",
          "text": [
            "Updated State 1:  [HumanMessage(content='Hello', additional_kwargs={}, response_metadata={}, id='b2392fad-eeb6-4faa-bce2-31c0c7c357bb'), AIMessage(content='Hi there', additional_kwargs={}, response_metadata={}, id='692e5020-03e8-44d3-9bb9-8806d07df88c')]\n"
          ]
        }
      ]
    },
    {
      "cell_type": "code",
      "source": [
        "def chatbot(state: State):\n",
        "    return {\"messages\": [llm.invoke(state[\"messages\"])]}\n",
        "\n",
        "\n",
        "# The first argument is the unique node name\n",
        "# The second argument is the function or object that will be called whenever\n",
        "# the node is used.\n",
        "graph_builder.add_node(\"chatbot\", chatbot)"
      ],
      "metadata": {
        "colab": {
          "base_uri": "https://localhost:8080/"
        },
        "id": "G9tx3YmwgaiE",
        "outputId": "9efbe52b-1785-4a08-c35f-54586ab8fb20"
      },
      "execution_count": null,
      "outputs": [
        {
          "output_type": "execute_result",
          "data": {
            "text/plain": [
              "<langgraph.graph.state.StateGraph at 0x7f151ca2e290>"
            ]
          },
          "metadata": {},
          "execution_count": 5
        }
      ]
    },
    {
      "cell_type": "code",
      "source": [
        "graph_builder.add_edge(START, \"chatbot\")"
      ],
      "metadata": {
        "colab": {
          "base_uri": "https://localhost:8080/"
        },
        "id": "qjg-CI60hFSA",
        "outputId": "e8adf120-763b-4648-8217-d86879cd0aad"
      },
      "execution_count": null,
      "outputs": [
        {
          "output_type": "execute_result",
          "data": {
            "text/plain": [
              "<langgraph.graph.state.StateGraph at 0x7f151ca2e290>"
            ]
          },
          "metadata": {},
          "execution_count": 6
        }
      ]
    },
    {
      "cell_type": "code",
      "source": [
        "graph_builder.add_edge(\"chatbot\", END)"
      ],
      "metadata": {
        "colab": {
          "base_uri": "https://localhost:8080/"
        },
        "id": "xHgC46hrzJPs",
        "outputId": "006931a9-49ed-49dd-b11c-eddbf22fb27e"
      },
      "execution_count": null,
      "outputs": [
        {
          "output_type": "execute_result",
          "data": {
            "text/plain": [
              "<langgraph.graph.state.StateGraph at 0x7f151ca2e290>"
            ]
          },
          "metadata": {},
          "execution_count": 7
        }
      ]
    },
    {
      "cell_type": "code",
      "source": [
        "graph = graph_builder.compile()"
      ],
      "metadata": {
        "id": "UujOiyHohPJQ"
      },
      "execution_count": null,
      "outputs": []
    },
    {
      "cell_type": "code",
      "source": [
        "from IPython.display import Image, display\n",
        "\n",
        "try:\n",
        "    display(Image(graph.get_graph().draw_mermaid_png()))\n",
        "except Exception:\n",
        "    # This requires some extra dependencies and is optional\n",
        "    pass"
      ],
      "metadata": {
        "colab": {
          "base_uri": "https://localhost:8080/",
          "height": 251
        },
        "id": "NJM4pj16h0Wb",
        "outputId": "4bf3a7f3-7136-4dde-c69c-df5747cdaa09"
      },
      "execution_count": null,
      "outputs": [
        {
          "output_type": "display_data",
          "data": {
            "image/jpeg": "[encoded data removed]",
            "text/plain": [
              "<IPython.core.display.Image object>"
            ]
          },
          "metadata": {}
        }
      ]
    },
    {
      "cell_type": "code",
      "source": [
        "for event in graph.stream({\"messages\": [(\"user\", \"I am hamza\")]}):\n",
        "    print(event)\n",
        "    print(event.values())\n",
        "    print(\"EVENT:\", list(event.values())[0][\"messages\"][-1].content)"
      ],
      "metadata": {
        "colab": {
          "base_uri": "https://localhost:8080/"
        },
        "id": "h9ItSOaIjYve",
        "outputId": "aae592f2-c96a-431f-b0e0-9dc87acdbdd5"
      },
      "execution_count": null,
      "outputs": [
        {
          "output_type": "stream",
          "name": "stdout",
          "text": [
            "{'chatbot': {'messages': [AIMessage(content='Nice to meet you, Hamza! \\n\\nWhat can I do for you today? \\n', additional_kwargs={}, response_metadata={'prompt_feedback': {'block_reason': 0, 'safety_ratings': []}, 'finish_reason': 'STOP', 'safety_ratings': [{'category': 'HARM_CATEGORY_SEXUALLY_EXPLICIT', 'probability': 'NEGLIGIBLE', 'blocked': False}, {'category': 'HARM_CATEGORY_HATE_SPEECH', 'probability': 'NEGLIGIBLE', 'blocked': False}, {'category': 'HARM_CATEGORY_HARASSMENT', 'probability': 'NEGLIGIBLE', 'blocked': False}, {'category': 'HARM_CATEGORY_DANGEROUS_CONTENT', 'probability': 'NEGLIGIBLE', 'blocked': False}]}, id='run-5def92a6-6f14-4fc1-8fec-9dc8821029ad-0', usage_metadata={'input_tokens': 5, 'output_tokens': 17, 'total_tokens': 22, 'input_token_details': {'cache_read': 0}})]}}\n",
            "dict_values([{'messages': [AIMessage(content='Nice to meet you, Hamza! \\n\\nWhat can I do for you today? \\n', additional_kwargs={}, response_metadata={'prompt_feedback': {'block_reason': 0, 'safety_ratings': []}, 'finish_reason': 'STOP', 'safety_ratings': [{'category': 'HARM_CATEGORY_SEXUALLY_EXPLICIT', 'probability': 'NEGLIGIBLE', 'blocked': False}, {'category': 'HARM_CATEGORY_HATE_SPEECH', 'probability': 'NEGLIGIBLE', 'blocked': False}, {'category': 'HARM_CATEGORY_HARASSMENT', 'probability': 'NEGLIGIBLE', 'blocked': False}, {'category': 'HARM_CATEGORY_DANGEROUS_CONTENT', 'probability': 'NEGLIGIBLE', 'blocked': False}]}, id='run-5def92a6-6f14-4fc1-8fec-9dc8821029ad-0', usage_metadata={'input_tokens': 5, 'output_tokens': 17, 'total_tokens': 22, 'input_token_details': {'cache_read': 0}})]}])\n",
            "EVENT: Nice to meet you, Hamza! \n",
            "\n",
            "What can I do for you today? \n",
            "\n"
          ]
        }
      ]
    },
    {
      "cell_type": "code",
      "source": [
        "def stream_graph_updates(user_input: str):\n",
        "    for event in graph.stream({\"messages\": [(\"user\", user_input)]}):\n",
        "        for value in event.values():\n",
        "            print(\"Assistant:\", value[\"messages\"][-1].content)"
      ],
      "metadata": {
        "id": "so1Q6wk-n8fX"
      },
      "execution_count": null,
      "outputs": []
    },
    {
      "cell_type": "code",
      "source": [
        "while True:\n",
        "    try:\n",
        "        user_input = input(\"User: \")\n",
        "        if user_input.lower() in [\"quit\", \"exit\", \"q\"]:\n",
        "            print(\"Goodbye!\")\n",
        "            break\n",
        "\n",
        "        stream_graph_updates(user_input)\n",
        "    except:\n",
        "        # fallback if input() is not available\n",
        "        user_input = \"What do you know about LangGraph?\"\n",
        "        print(\"User: \" + user_input)\n",
        "        stream_graph_updates(user_input)\n",
        "        break"
      ],
      "metadata": {
        "colab": {
          "base_uri": "https://localhost:8080/"
        },
        "id": "3MYx7tg_oiva",
        "outputId": "693e823c-dbca-4a3e-f647-e850144225b4"
      },
      "execution_count": null,
      "outputs": [
        {
          "output_type": "stream",
          "name": "stdout",
          "text": [
            "User: hi my name is Hamza\n",
            "Assistant: Hi Hamza, nice to meet you! 👋  What can I do for you today? 😊 \n",
            "\n",
            "User: what is my name\n",
            "Assistant: As an AI, I don't have access to personal information like your name.  To know your name, you'll need to tell me! \n",
            "\n",
            "User: q\n",
            "Goodbye!\n"
          ]
        }
      ]
    },
    {
      "cell_type": "markdown",
      "source": [
        "# Part 2: Enhancing Chatbot With Tools"
      ],
      "metadata": {
        "id": "g4FAJ6GIbTz1"
      }
    },
    {
      "cell_type": "code",
      "source": [
        "%%capture --no-stderr\n",
        "%pip install -U tavily-python langchain_community"
      ],
      "metadata": {
        "id": "i64fTh2PauyM"
      },
      "execution_count": null,
      "outputs": []
    },
    {
      "cell_type": "code",
      "source": [
        "os.environ [\"TAVILY_API_KEY\"] =  userdata.get(\"TAVILY_API_KEY\")"
      ],
      "metadata": {
        "id": "NHoQrIv7bgNa"
      },
      "execution_count": null,
      "outputs": []
    },
    {
      "cell_type": "markdown",
      "source": [
        "### Next define the tool"
      ],
      "metadata": {
        "id": "ELkDd-IPbwqH"
      }
    },
    {
      "cell_type": "code",
      "source": [
        "from langchain_community.tools.tavily_search import TavilySearchResults\n",
        "\n",
        "tool = TavilySearchResults(max_results = 2)"
      ],
      "metadata": {
        "id": "zXeDdm53bvWE"
      },
      "execution_count": null,
      "outputs": []
    },
    {
      "cell_type": "code",
      "source": [
        "tool.invoke(\"What's a 'node' in langgraph\")"
      ],
      "metadata": {
        "id": "He35KPaVeB-g",
        "colab": {
          "base_uri": "https://localhost:8080/"
        },
        "outputId": "2359a60e-4b2a-402b-f032-3c5e07905f20"
      },
      "execution_count": null,
      "outputs": [
        {
          "output_type": "execute_result",
          "data": {
            "text/plain": [
              "[{'url': 'https://www.datacamp.com/tutorial/langgraph-tutorial',\n",
              "  'content': \"In LangGraph, each node represents an LLM agent, and the edges are the communication channels between these agents. This structure allows for clear and manageable workflows, where each agent performs specific tasks and passes information to other agents as needed. State management. One of LangGraph's standout features is its automatic state\"},\n",
              " {'url': 'https://medium.com/@kbdhunga/beginners-guide-to-langgraph-understanding-state-nodes-and-edges-part-1-897e6114fa48',\n",
              "  'content': 'Each node in a LangGraph graph has the ability to access, read, and write to the state. When a node modifies the state, it effectively broadcasts this information to all other nodes within the graph .'}]"
            ]
          },
          "metadata": {},
          "execution_count": 13
        }
      ]
    },
    {
      "cell_type": "code",
      "source": [
        "tools = [tool]"
      ],
      "metadata": {
        "id": "chTkI8EIeEa6"
      },
      "execution_count": null,
      "outputs": []
    },
    {
      "cell_type": "code",
      "source": [
        "from typing import Annotated\n",
        "from typing_extensions import TypedDict\n",
        "from langgraph.graph import StateGraph, START, END\n",
        "from langgraph.graph.message import add_messages\n",
        "\n",
        "class State(TypedDict):\n",
        "  messages: Annotated[list, add_messages]\n",
        "\n",
        "graph_builder = StateGraph(State)\n",
        "\n",
        "# Modification tell the LLM which tool it can call\n",
        "ll_with_tools = llm.bind_tools(tool)\n",
        "\n",
        "def chatbot(state:State)->State:\n",
        "  return {\"messages\": [ll_with_tools.invoke(state['messages'])]}\n",
        "\n",
        "graph_builder.add_node(\"chatbot\", chatbot)"
      ],
      "metadata": {
        "id": "WbOoXA92eE9I",
        "colab": {
          "base_uri": "https://localhost:8080/"
        },
        "outputId": "a236aae0-65a2-4d4a-91e4-92102ebb7c1c"
      },
      "execution_count": null,
      "outputs": [
        {
          "output_type": "stream",
          "name": "stderr",
          "text": [
            "WARNING:langchain_google_genai._function_utils:convert_to_genai_function_declarations expects a Sequence and not a single tool.\n",
            "WARNING:langchain_google_genai._function_utils:Key 'title' is not supported in schema, ignoring\n"
          ]
        },
        {
          "output_type": "execute_result",
          "data": {
            "text/plain": [
              "<langgraph.graph.state.StateGraph at 0x7cfc510941c0>"
            ]
          },
          "metadata": {},
          "execution_count": 19
        }
      ]
    },
    {
      "cell_type": "code",
      "source": [
        "ll_with_tools"
      ],
      "metadata": {
        "id": "4yQ_UfmJgvCl",
        "colab": {
          "base_uri": "https://localhost:8080/"
        },
        "outputId": "1db4eacd-ed71-4c89-b9d5-a4f058a9a493"
      },
      "execution_count": null,
      "outputs": [
        {
          "output_type": "execute_result",
          "data": {
            "text/plain": [
              "RunnableBinding(bound=ChatGoogleGenerativeAI(model='models/gemini-1.5-flash', google_api_key=SecretStr('**********'), max_retries=2, client=<google.ai.generativelanguage_v1beta.services.generative_service.client.GenerativeServiceClient object at 0x7cfc47b8c1c0>, default_metadata=()), kwargs={'tools': [{'function_declarations': [{'name': 'tavily_search_results_json', 'description': 'A search engine optimized for comprehensive, accurate, and trusted results. Useful for when you need to answer questions about current events. Input should be a search query.', 'parameters': {'type_': 6, 'description': 'Input for the Tavily tool.', 'properties': {'query': {'type_': 1, 'description': 'search query to look up', 'format_': '', 'nullable': False, 'enum': [], 'max_items': '0', 'min_items': '0', 'properties': {}, 'required': []}}, 'required': ['query'], 'format_': '', 'nullable': False, 'enum': [], 'max_items': '0', 'min_items': '0'}}]}]}, config={}, config_factories=[])"
            ]
          },
          "metadata": {},
          "execution_count": 20
        }
      ]
    },
    {
      "cell_type": "code",
      "source": [
        "ll_with_tools.invoke(\"What is langgraph\")"
      ],
      "metadata": {
        "id": "wdbxS7WCgxHm",
        "colab": {
          "base_uri": "https://localhost:8080/"
        },
        "outputId": "9490cece-be58-4ccc-ba2b-3d1045e88c46"
      },
      "execution_count": null,
      "outputs": [
        {
          "output_type": "execute_result",
          "data": {
            "text/plain": [
              "AIMessage(content='', additional_kwargs={'function_call': {'name': 'tavily_search_results_json', 'arguments': '{\"query\": \"What is langgraph\"}'}}, response_metadata={'prompt_feedback': {'block_reason': 0, 'safety_ratings': []}, 'finish_reason': 'STOP', 'safety_ratings': [{'category': 'HARM_CATEGORY_HARASSMENT', 'probability': 'NEGLIGIBLE', 'blocked': False}, {'category': 'HARM_CATEGORY_SEXUALLY_EXPLICIT', 'probability': 'NEGLIGIBLE', 'blocked': False}, {'category': 'HARM_CATEGORY_HATE_SPEECH', 'probability': 'NEGLIGIBLE', 'blocked': False}, {'category': 'HARM_CATEGORY_DANGEROUS_CONTENT', 'probability': 'NEGLIGIBLE', 'blocked': False}]}, id='run-15122b47-4300-40b6-a7e4-9b6efd01bfe5-0', tool_calls=[{'name': 'tavily_search_results_json', 'args': {'query': 'What is langgraph'}, 'id': '1582e7a3-a7ff-49a9-9b02-d61353cb4278', 'type': 'tool_call'}], usage_metadata={'input_tokens': 78, 'output_tokens': 23, 'total_tokens': 101, 'input_token_details': {'cache_read': 0}})"
            ]
          },
          "metadata": {},
          "execution_count": 21
        }
      ]
    },
    {
      "cell_type": "code",
      "source": [
        "tools_by_name = {tool.name: tool for tool in tools}\n",
        "print(type(tools_by_name))\n",
        "print(tools_by_name)"
      ],
      "metadata": {
        "id": "eDzj3n9QirrX",
        "colab": {
          "base_uri": "https://localhost:8080/"
        },
        "outputId": "3f886a0f-8639-454f-f4b9-60662a97cb57"
      },
      "execution_count": null,
      "outputs": [
        {
          "output_type": "stream",
          "name": "stdout",
          "text": [
            "<class 'dict'>\n",
            "{'tavily_search_results_json': TavilySearchResults(max_results=2, api_wrapper=TavilySearchAPIWrapper(tavily_api_key=SecretStr('**********')))}\n"
          ]
        }
      ]
    },
    {
      "cell_type": "code",
      "source": [
        "tools_by_name[\"tavily_search_results_json\"]"
      ],
      "metadata": {
        "id": "FGduJfTDi61z",
        "colab": {
          "base_uri": "https://localhost:8080/"
        },
        "outputId": "f4e3bdc6-e218-4825-a321-e1539ef47468"
      },
      "execution_count": null,
      "outputs": [
        {
          "output_type": "execute_result",
          "data": {
            "text/plain": [
              "TavilySearchResults(max_results=2, api_wrapper=TavilySearchAPIWrapper(tavily_api_key=SecretStr('**********')))"
            ]
          },
          "metadata": {},
          "execution_count": 23
        }
      ]
    },
    {
      "cell_type": "code",
      "source": [
        "import json\n",
        "\n",
        "from langchain_core.messages import ToolMessage\n",
        "\n",
        "\n",
        "class BasicToolNode:\n",
        "    \"\"\"A node that runs the tools requested in the last AIMessage.\"\"\"\n",
        "\n",
        "    def __init__(self, tools: list) -> None:\n",
        "                              # {\"tavily_search_results_json\": TavilySearchResult}\n",
        "        self.tools_by_name = {tool.name: tool for tool in tools}\n",
        "\n",
        "\n",
        "tool_node = BasicToolNode(tools=[tool])\n",
        "print(tool_node.tools_by_name)"
      ],
      "metadata": {
        "colab": {
          "base_uri": "https://localhost:8080/"
        },
        "id": "KrxEMEOTyq5N",
        "outputId": "82634753-d4e7-4a2b-bf8d-cb7d1a0d450d"
      },
      "execution_count": null,
      "outputs": [
        {
          "output_type": "stream",
          "name": "stdout",
          "text": [
            "{'tavily_search_results_json': TavilySearchResults(max_results=2, api_wrapper=TavilySearchAPIWrapper(tavily_api_key=SecretStr('**********')))}\n"
          ]
        }
      ]
    },
    {
      "cell_type": "code",
      "source": [
        "import json\n",
        "\n",
        "from langchain_core.messages import ToolMessage\n",
        "\n",
        "\n",
        "class BasicToolNode:\n",
        "    \"\"\"A node that runs the tools requested in the last AIMessage.\"\"\"\n",
        "\n",
        "    def __init__(self, tools: list) -> None:\n",
        "        self.tools_by_name = {tool.name: tool for tool in tools}\n",
        "\n",
        "    def __call__(self, inputs: dict):\n",
        "        if messages := inputs.get(\"messages\", []):\n",
        "            message = messages[-1]\n",
        "        else:\n",
        "            raise ValueError(\"No message found in input\")\n",
        "        outputs = []\n",
        "        for tool_call in message.tool_calls:\n",
        "            tool_result = self.tools_by_name[tool_call[\"name\"]].invoke(\n",
        "                tool_call[\"args\"]\n",
        "            )\n",
        "            outputs.append(\n",
        "                ToolMessage(\n",
        "                    content=json.dumps(tool_result),\n",
        "                    name=tool_call[\"name\"],\n",
        "                    tool_call_id=tool_call[\"id\"],\n",
        "                )\n",
        "            )\n",
        "        return {\"messages\": outputs}\n",
        "\n",
        "\n",
        "tool_node = BasicToolNode(tools=[tool])\n",
        "graph_builder.add_node(\"tools\", tool_node)"
      ],
      "metadata": {
        "id": "AS42jWIUjtaH",
        "colab": {
          "base_uri": "https://localhost:8080/"
        },
        "outputId": "c9f18291-0fb0-446e-a135-14499a038279"
      },
      "execution_count": null,
      "outputs": [
        {
          "output_type": "execute_result",
          "data": {
            "text/plain": [
              "<langgraph.graph.state.StateGraph at 0x7cfc510941c0>"
            ]
          },
          "metadata": {},
          "execution_count": 42
        }
      ]
    },
    {
      "cell_type": "code",
      "source": [
        "from langchain_core.messages import AIMessage, HumanMessage\n",
        "\n",
        "messages = [\n",
        "    AIMessage(content='', additional_kwargs={'function_call': {'name': 'tavily_search_results_json', 'arguments': '{\"query\": \"What is langgraph\"}'}},\n",
        "              response_metadata={'prompt_feedback': {'block_reason': 0, 'safety_ratings': []}, 'finish_reason': 'STOP', 'safety_ratings': [{'category': 'HARM_CATEGORY_HARASSMENT', 'probability': 'NEGLIGIBLE', 'blocked': False}, {'category': 'HARM_CATEGORY_SEXUALLY_EXPLICIT', 'probability': 'NEGLIGIBLE', 'blocked': False}, {'category': 'HARM_CATEGORY_HATE_SPEECH', 'probability': 'NEGLIGIBLE', 'blocked': False}, {'category': 'HARM_CATEGORY_DANGEROUS_CONTENT', 'probability': 'NEGLIGIBLE', 'blocked': False}]},\n",
        "              id='run-15122b47-4300-40b6-a7e4-9b6efd01bfe5-0',\n",
        "              tool_calls=[{'name': 'tavily_search_results_json', 'args': {'query': 'What is langgraph'}, 'id': '1582e7a3-a7ff-49a9-9b02-d61353cb4278', 'type': 'tool_call'}],\n",
        "              usage_metadata={'input_tokens': 78, 'output_tokens': 23, 'total_tokens': 101, 'input_token_details': {'cache_read': 0}})\n",
        "]\n",
        "\n",
        "tool_node(inputs={\"messages\":messages})"
      ],
      "metadata": {
        "colab": {
          "base_uri": "https://localhost:8080/"
        },
        "id": "T-EY0tvGucMz",
        "outputId": "ea7ecb8f-0a51-4293-9306-fcfd36487f33"
      },
      "execution_count": null,
      "outputs": [
        {
          "output_type": "execute_result",
          "data": {
            "text/plain": [
              "{'messages': [ToolMessage(content='[{\"url\": \"https://langchain-ai.github.io/langgraph/\", \"content\": \"LangGraph is a framework for creating stateful, multi-actor applications with LLMs, using cycles, controllability, and persistence. Learn how to use LangGraph with examples, integration with LangChain, and streaming support.\"}, {\"url\": \"https://towardsdatascience.com/from-basics-to-advanced-exploring-langgraph-e8c1cf4db787\", \"content\": \"LangGraph is a low-level framework that offers extensive customisation options, allowing you to build precisely what you need. Since LangGraph is built on top of LangChain, it\\'s seamlessly integrated into its ecosystem, making it easy to leverage existing tools and components. However, there are areas where LangGrpah could be improved:\"}]', name='tavily_search_results_json', tool_call_id='1582e7a3-a7ff-49a9-9b02-d61353cb4278')]}"
            ]
          },
          "metadata": {},
          "execution_count": 41
        }
      ]
    },
    {
      "cell_type": "code",
      "source": [
        "from typing import Literal\n",
        "\n",
        "\n",
        "def route_tools(\n",
        "    state: State,\n",
        "):\n",
        "    \"\"\"\n",
        "    Use in the conditional_edge to route to the ToolNode if the last message\n",
        "    has tool calls. Otherwise, route to the end.\n",
        "    \"\"\"\n",
        "    if isinstance(state, list):\n",
        "        ai_message = state[-1]\n",
        "    elif messages := state.get(\"messages\", []):\n",
        "        ai_message = messages[-1]\n",
        "    else:\n",
        "        raise ValueError(f\"No messages found in input state to tool_edge: {state}\")\n",
        "    if hasattr(ai_message, \"tool_calls\") and len(ai_message.tool_calls) > 0:\n",
        "        return \"tools\"\n",
        "    return END\n",
        "\n",
        "\n",
        "# The `tools_condition` function returns \"tools\" if the chatbot asks to use a tool, and \"END\" if\n",
        "# it is fine directly responding. This conditional routing defines the main agent loop.\n",
        "graph_builder.add_conditional_edges(\n",
        "    \"chatbot\",\n",
        "    route_tools,\n",
        "    # The following dictionary lets you tell the graph to interpret the condition's outputs as a specific node\n",
        "    # It defaults to the identity function, but if you\n",
        "    # want to use a node named something else apart from \"tools\",\n",
        "    # You can update the value of the dictionary to something else\n",
        "    # e.g., \"tools\": \"my_tools\"\n",
        "    {\"tools\": \"tools\", END: END},\n",
        ")\n",
        "# Any time a tool is called, we return to the chatbot to decide the next step\n",
        "graph_builder.add_edge(\"tools\", \"chatbot\")\n",
        "graph_builder.add_edge(START, \"chatbot\")\n",
        "graph = graph_builder.compile()"
      ],
      "metadata": {
        "id": "LuNXpcDXuq3X"
      },
      "execution_count": null,
      "outputs": []
    },
    {
      "cell_type": "code",
      "source": [
        "from IPython.display import Image, display\n",
        "\n",
        "try:\n",
        "    display(Image(graph.get_graph().draw_mermaid_png()))\n",
        "except Exception:\n",
        "    # This requires some extra dependencies and is optional\n",
        "    pass"
      ],
      "metadata": {
        "colab": {
          "base_uri": "https://localhost:8080/",
          "height": 266
        },
        "id": "CxftFg9G1lK5",
        "outputId": "f0868628-92d5-4bb1-b2ed-a0a5b789d31f"
      },
      "execution_count": null,
      "outputs": [
        {
          "output_type": "display_data",
          "data": {
            "image/jpeg": "[encoded data removed]",
            "text/plain": [
              "<IPython.core.display.Image object>"
            ]
          },
          "metadata": {}
        }
      ]
    },
    {
      "cell_type": "code",
      "source": [
        "while True:\n",
        "    try:\n",
        "        user_input = input(\"User: \")\n",
        "        if user_input.lower() in [\"quit\", \"exit\", \"q\"]:\n",
        "            print(\"Goodbye!\")\n",
        "            break\n",
        "\n",
        "        stream_graph_updates(user_input)\n",
        "    except:\n",
        "        # fallback if input() is not available\n",
        "        user_input = \"What do you know about LangGraph?\"\n",
        "        print(\"User: \" + user_input)\n",
        "        stream_graph_updates(user_input)\n",
        "        break"
      ],
      "metadata": {
        "colab": {
          "base_uri": "https://localhost:8080/"
        },
        "id": "ZcDN_Oei1m3o",
        "outputId": "b7522122-263b-4176-bf91-08a9b9101468"
      },
      "execution_count": null,
      "outputs": [
        {
          "output_type": "stream",
          "name": "stdout",
          "text": [
            "User: hi \n",
            "Assistant: Hello! How can I help you today? \n",
            "\n",
            "User: what is current weather in Karachi\n",
            "Assistant: \n",
            "Assistant: [{\"url\": \"https://www.weatherapi.com/\", \"content\": \"{'location': {'name': 'Karachi', 'region': 'Sindh', 'country': 'Pakistan', 'lat': 24.8667, 'lon': 67.05, 'tz_id': 'Asia/Karachi', 'localtime_epoch': 1730751764, 'localtime': '2024-11-05 01:22'}, 'current': {'last_updated_epoch': 1730751300, 'last_updated': '2024-11-05 01:15', 'temp_c': 25.2, 'temp_f': 77.4, 'is_day': 0, 'condition': {'text': 'Clear', 'icon': '//cdn.weatherapi.com/weather/64x64/night/113.png', 'code': 1000}, 'wind_mph': 8.3, 'wind_kph': 13.3, 'wind_degree': 271, 'wind_dir': 'W', 'pressure_mb': 1013.0, 'pressure_in': 29.91, 'precip_mm': 0.0, 'precip_in': 0.0, 'humidity': 79, 'cloud': 0, 'feelslike_c': 26.6, 'feelslike_f': 79.9, 'windchill_c': 26.9, 'windchill_f': 80.5, 'heatindex_c': 28.7, 'heatindex_f': 83.7, 'dewpoint_c': 19.9, 'dewpoint_f': 67.9, 'vis_km': 6.0, 'vis_miles': 3.0, 'uv': 0.0, 'gust_mph': 12.5, 'gust_kph': 20.2}}\"}, {\"url\": \"https://www.ventusky.com/karachi\", \"content\": \"\\u06a9\\u0631\\u0627\\u0686\\u06cc (Karachi) Pakistan / Lat.: 24\\u00b052'N / Lon.: 67\\u00b01'E / Altitude: 19 m. Timezone: Asia/Karachi (UTC+5) / Current time: 10:32 2024/11/03. Current Weather. Forecast. Sun and Moon. 30 \\u00b0C. Wind 7 km/h.\"}]\n",
            "Assistant: The current weather in Karachi is Clear with a temperature of 25.2 degrees Celsius. The wind is blowing from the West at 13.3 km/h. The humidity is 79%. \n",
            "\n",
            "User: q\n",
            "Goodbye!\n"
          ]
        }
      ]
    },
    {
      "cell_type": "code",
      "source": [
        "from typing import Annotated\n",
        "\n",
        "\n",
        "from langchain_community.tools.tavily_search import TavilySearchResults\n",
        "from langchain_core.messages import BaseMessage\n",
        "from typing_extensions import TypedDict\n",
        "\n",
        "from langgraph.graph import StateGraph\n",
        "from langgraph.graph.message import add_messages\n",
        "from langgraph.prebuilt import ToolNode, tools_condition\n",
        "\n",
        "\n",
        "class State(TypedDict):\n",
        "    messages: Annotated[list, add_messages]\n",
        "\n",
        "\n",
        "graph_builder = StateGraph(State)\n",
        "\n",
        "\n",
        "tool = TavilySearchResults(max_results=2)\n",
        "tools = [tool]\n",
        "llm_with_tools = llm.bind_tools(tools)\n",
        "\n",
        "\n",
        "def chatbot(state: State):\n",
        "    return {\"messages\": [llm_with_tools.invoke(state[\"messages\"])]}\n",
        "\n",
        "\n",
        "graph_builder.add_node(\"chatbot\", chatbot)\n",
        "\n",
        "tool_node = ToolNode(tools=[tool])\n",
        "graph_builder.add_node(\"tools\", tool_node)\n",
        "\n",
        "graph_builder.add_conditional_edges(\n",
        "    \"chatbot\",\n",
        "    tools_condition,\n",
        ")\n",
        "# Any time a tool is called, we return to the chatbot to decide the next step\n",
        "graph_builder.add_edge(\"tools\", \"chatbot\")\n",
        "graph_builder.set_entry_point(\"chatbot\")\n",
        "graph = graph_builder.compile()"
      ],
      "metadata": {
        "id": "3DKZHfoI2LPg"
      },
      "execution_count": null,
      "outputs": []
    },
    {
      "cell_type": "code",
      "source": [
        "from IPython.display import Image, display\n",
        "\n",
        "try:\n",
        "    display(Image(graph.get_graph().draw_mermaid_png()))\n",
        "except Exception:\n",
        "    # This requires some extra dependencies and is optional\n",
        "    pass"
      ],
      "metadata": {
        "colab": {
          "base_uri": "https://localhost:8080/",
          "height": 266
        },
        "id": "oZGWv3_Ur5Bz",
        "outputId": "27fc69f0-d52c-4592-ebb9-9c4957f54cc6"
      },
      "execution_count": null,
      "outputs": [
        {
          "output_type": "display_data",
          "data": {
            "image/jpeg": "[encoded data removed]",
            "text/plain": [
              "<IPython.core.display.Image object>"
            ]
          },
          "metadata": {}
        }
      ]
    },
    {
      "cell_type": "code",
      "source": [
        "while True:\n",
        "    try:\n",
        "        user_input = input(\"User: \")\n",
        "        if user_input.lower() in [\"quit\", \"exit\", \"q\"]:\n",
        "            print(\"Goodbye!\")\n",
        "            break\n",
        "\n",
        "        stream_graph_updates(user_input)\n",
        "    except:\n",
        "        # fallback if input() is not available\n",
        "        user_input = \"What do you know about LangGraph?\"\n",
        "        print(\"User: \" + user_input)\n",
        "        stream_graph_updates(user_input)\n",
        "        break"
      ],
      "metadata": {
        "colab": {
          "base_uri": "https://localhost:8080/"
        },
        "id": "2qiiD3o0Ay6W",
        "outputId": "9b1d2a3e-a408-4047-be9e-b1abe512dc1a"
      },
      "execution_count": null,
      "outputs": [
        {
          "output_type": "stream",
          "name": "stdout",
          "text": [
            "User: hi\n",
            "Assistant: Hello! 👋 How can I help you today? 😊 \n",
            "\n",
            "User: who was the president of Pakistan\n",
            "Assistant: \n",
            "Assistant: [{\"url\": \"https://en.wikipedia.org/wiki/List_of_presidents_of_Pakistan\", \"content\": \"The president of Pakistan is the head of state of the Islamic Republic of Pakistan. The complete list of presidents of Pakistan includes the persons sworn into the office of president following the proclamation of the Islamic Republic of Pakistan in 1956. There have been a total of 13 presidents. The first president was Iskander Ali Mirza who\"}, {\"url\": \"https://president.gov.pk/\", \"content\": \"Latest News\\nSpecial Initiatives\\nGallery\\nPresident Arif Alvi administers oath to Mian Muhammad Shehbaz Sharif as Prime Minister of Pakistan\\nPresident for enhanced cooperation between audit institutions of Pakistan & Azerbaijan\\nپنک سالٹ کو عالمی سطح پر  موثر انداز میں پاکستانی نمک کے طور پر مارکیٹ کرنا ہوگا، صدر مملکت\\nکرتار پور راہداری امن کی علامت، پاکستان تمام سکھ یاتریوں کو خوش آمدید کہتا ہے، صدر مملکت\\nFast decision-making essential for national development: This Policy represent the policy of Pakistan Innovation hub with respect to retention and destruction\\nof documents and other records, both in hard copy and electronic media (which may merely be referred\\nto as \\\"documents\\\" in this Policy). He remained Dean of Orthodontics, College of Physicians and Surgeons of Pakistan, President, Pakistan Dental Association (1997-2001), Pakistan Association of Orthodontists (2005), Asia Pacific Dental Federation (2006-07) and Councilor of the World Dental Federation (2007-2013). President Dr Arif Alvi\\nپاکستان غیرملکی کمپنیوں کےساتھ باہمی طور پر فائدہ مند کاروباری شراکت داری چاہتاہے، صدر مملکت\\nWe use your Personal Information only for providing and improving the Site (www.president.gov.pk).\\n By using the Site, you agree to the collection and use of information in accordance with this\\npolicy.\\n\"}]\n",
            "Assistant: The current president of Pakistan is **Arif Alvi**. \n",
            "\n",
            "User: who was the prime minister of Pakistan\n",
            "Assistant: \n",
            "Assistant: [{\"url\": \"https://en.wikipedia.org/wiki/List_of_prime_ministers_of_Pakistan\", \"content\": \"Sharif was re-elected for a third non-consecutive term on 5 June 2013, which is a record in the history of Pakistan.[17][18] No prime minister of Pakistan has yet served their full five year term.[19]\\nThe national politics in Pakistan was mostly dominated by the army department of the Pakistan Armed Forces throughout its history, but it is now[when?] dominated by the political parties.[13]\\nKey\\nPrime ministers\\nنوابزادہ لیاقت علی خان (1895–1951)\\nخواجہ ناظم الدین(1894–1964)\\nمحمد علی بوگرہ(1909–1963)\\nچوہدری محمد علی(1905–1982)\\nحسین شہید سہروردی(1892–1963)\\nابراہیم اسماعیل چندریگر(1897–1960)\\nفیروز خان نون(1893–1970)\\nنور الامین(1893–1974)\\nذولفقار علی بھٹو (1928–1979)\\nمحمد خان جنیجو(1932–1993)\\nبے نظیر بھٹو(1953–2007)\\nمیاں محمد نواز شریف(born 1949)\\nبے نظیر بھٹو (1953–2007)\\nمیاں محمد نواز شریف(born 1949)\\nمیر ظفر اللہ خان جمالی(1944–2020)\\nچوہدری شجاعت حسین(born 1946)\\n The prime minister is vested with the responsibility of running the administration through his appointed federal cabinet, formulating national policies to ensure the safeguard of the interests of the nation and its people through the Council of Common Interests as well as making the decision to call nationwide general elections for the bicameral Parliament of Pakistan.[2][3][4]\\nSince 1947, Pakistan has had eighteen prime ministers, aside from the appointed caretaker prime ministers who were only mandated to oversee the system until the election process was finished. Contents\\nList of prime ministers of Pakistan\\nTerritorial election commission\\nElections\\nProvincial elections\\nTerritorial elections\\nPolitical parties\\nProvinces\\nAutonomous region\\nAzad Kashmir government\\nLocal government\\nCustoms\\nRegional topics\\nThe prime minister of Pakistan (Urdu: وزير اعظم, romanized: Wazīr ē Bhutto during 1988–90 and 1993–96;[10] and Sharif during 1990–93 and 1997–99.[11][12]\\nAfter the general elections held in 2002, Zafarullah Khan Jamali was invited to form his administration as its prime minister.[13] After the Supreme Court of Pakistan's ruling to disqualify Prime Minister Yousaf Raza Gillani in 2012, the business of his administration was looked after by Raja Pervez Ashraf until the caretaker administration was setup under Mir Hazar Khan Khoso.[14][15][3][4]\\nNurul Amin of the Muslim League had the shortest term, at 13 days. In Pakistan's parliamentary system, the prime minister is sworn in by the president and usually is the chairman or the president of the party or coalition that has a majority in the National Assembly– the lower house of Pakistan Parliament.\\n\"}, {\"url\": \"https://www.cnn.com/2024/03/03/asia/shehbaz-sharif-prime-minister-pakistan-intl/index.html\", \"content\": \"CNN values your feedback\\nShehbaz Sharif elected Pakistani prime minister for a second time after controversial elections\\nFollow:\\nShehbaz Sharif has become Pakistan’s prime minister for a second time nearly a month after an inconclusive general election marred by delays and widespread allegations of vote-rigging.\\n The Pakistan Muslim League Nawaz party (PMLN), headed by former Prime Minister Nawaz Sharif who is also the older brother of Shehbaz Sharif, came in second with 73 seats, and their long-term rivals the Pakistan People’s Party (PPP) won 54 seats.\\n After winning his brother’s backing, Shehbaz Sharif returns to a role he held until parliament was dissolved last year, and will lead a coalition government with the PMLN.\\n Shehbaz Sharif was first sworn in as Pakistan’s prime minister in April 2022, after Imran Khan was dramatically ousted from power in a parliamentary no-confidence vote.\\n Following the vote in the lower house of parliament, opposition party members began chanting at Sharif as he addressed parliamentarians, calling him a thief.\\n\"}]\n",
            "Assistant: The current Prime Minister of Pakistan is **Shehbaz Sharif**. He was elected for a second time in March 2024. \n",
            "\n",
            "User: q\n",
            "Goodbye!\n"
          ]
        }
      ]
    },
    {
      "cell_type": "markdown",
      "source": [
        "#Part 3: Adding Memory To The Chatbot\n",
        "\n",
        "Our chatbot can now use tools to answer user questions, but it doesn't remember the context of previous interactions. This limits its ability to have coherent, multi-turn conversations.\n",
        "\n",
        "LangGraph solves this problem through **persistent checkpointing**. If you provide a `checkpointer` when compiling the graph and a `thread_id` when calling your graph, LangGraph automatically saves the state after each step. When you invoke the graph again using the same `thread_id`, the graph loads its saved state, allowing the chatbot to pick up where it left off.\n",
        "\n",
        "We will see later that **checkpointing** is much more powerful than simple chat memory - it lets you save and resume complex state at any time for error recovery, human-in-the-loop workflows, time travel interactions, and more. But before we get too ahead of ourselves, let's add checkpointing to enable multi-turn conversations.\n",
        "\n",
        "To get started, create a `MemorySaver` checkpointer."
      ],
      "metadata": {
        "id": "H2rHUjA8Cs_I"
      }
    },
    {
      "cell_type": "code",
      "source": [
        "from langgraph.checkpoint.memory import MemorySaver\n",
        "\n",
        "memroy = MemorySaver()"
      ],
      "metadata": {
        "id": "lMKrE3kQC4Fm"
      },
      "execution_count": null,
      "outputs": []
    },
    {
      "cell_type": "markdown",
      "source": [
        "**Notice** we're using an in-memory checkpointer. This is convenient for our tutorial (it saves it all in-memory). In a production application, you would likely change this to use `SqliteSaver` or `PostgresSaver` and connect to your own DB.\n",
        "\n",
        "Next define the graph. Now that you've already built your own `BasicToolNode`, we'll replace it with LangGraph's prebuilt `ToolNode` and `tools_condition`, since these do some nice things like parallel API execution. Apart from that, the following is all copied from Part 2."
      ],
      "metadata": {
        "id": "rpj1SIDHvTb4"
      }
    },
    {
      "cell_type": "code",
      "source": [
        "from typing import Annotated\n",
        "from typing_extensions import TypedDict\n",
        "from langgraph.graph import StateGraph, END, START\n",
        "from langgraph.graph.message import add_messages\n",
        "from langchain_community.tools.tavily_search import TavilySearchResults\n",
        "from langchain_core.messages import BaseMessage\n",
        "from langgraph.prebuilt import ToolNode, tools_condition\n",
        "\n",
        "class State(TypedDict):\n",
        "  messages: Annotated[list, add_messages]\n",
        "\n",
        "graph_builder = StateGraph(State)\n",
        "\n",
        "tool = TavilySearchResults(max_results=2)\n",
        "tools = [tool]\n",
        "llm_with_tools = llm.bind_tools(tools)\n",
        "\n",
        "def chatbot(state:State):\n",
        "  return {\"messages\": [llm_with_tools.invoke(state['messages'])]}\n",
        "\n",
        "graph_builder.add_node(\"chatbot\", chatbot)\n",
        "\n",
        "tool_node = ToolNode(tools=[tool])\n",
        "graph_builder.add_node(\"tools\", tool_node)\n",
        "\n",
        "graph_builder.add_conditional_edges(\n",
        "    \"chatbot\",\n",
        "    tools_condition,\n",
        ")\n",
        "# Any time a tool is called, we return to the chatbot to decide the next step\n",
        "graph_builder.add_edge(\"tools\", \"chatbot\")\n",
        "graph_builder.set_entry_point(\"chatbot\")"
      ],
      "metadata": {
        "colab": {
          "base_uri": "https://localhost:8080/"
        },
        "id": "izBN9oD_vgas",
        "outputId": "140e9c21-7b0c-458c-88b0-4ddc3445eccb"
      },
      "execution_count": null,
      "outputs": [
        {
          "output_type": "execute_result",
          "data": {
            "text/plain": [
              "<langgraph.graph.state.StateGraph at 0x7f14e41a22c0>"
            ]
          },
          "metadata": {},
          "execution_count": 21
        }
      ]
    },
    {
      "cell_type": "code",
      "source": [
        "graph = graph_builder.compile(checkpointer=memroy)"
      ],
      "metadata": {
        "id": "nn71gy4TyXzt"
      },
      "execution_count": null,
      "outputs": []
    },
    {
      "cell_type": "markdown",
      "source": [
        "Notice the connectivity of the graph hasn't changed since Part 2. All we are doing is checkpointing the `State` as the graph works through each node."
      ],
      "metadata": {
        "id": "u5KrEww4yyF0"
      }
    },
    {
      "cell_type": "code",
      "source": [
        "from IPython.display import Image, display\n",
        "\n",
        "try:\n",
        "    display(Image(graph.get_graph().draw_mermaid_png()))\n",
        "except Exception:\n",
        "    # This requires some extra dependencies and is optional\n",
        "    pass"
      ],
      "metadata": {
        "colab": {
          "base_uri": "https://localhost:8080/",
          "height": 266
        },
        "id": "bk0GuWl1y07v",
        "outputId": "cc587779-722a-4840-de95-f1e59155effa"
      },
      "execution_count": null,
      "outputs": [
        {
          "output_type": "display_data",
          "data": {
            "image/jpeg": "[encoded data removed]",
            "text/plain": [
              "<IPython.core.display.Image object>"
            ]
          },
          "metadata": {}
        }
      ]
    },
    {
      "cell_type": "markdown",
      "source": [
        "Now you can interact with your bot! First, pick a thread to use as the key for this conversation."
      ],
      "metadata": {
        "id": "a4LWUNFgy9GJ"
      }
    },
    {
      "cell_type": "code",
      "source": [
        "config = {\"configurable\": {\"thread_id\": \"1\"}}"
      ],
      "metadata": {
        "id": "ywh1fdfEy4yV"
      },
      "execution_count": null,
      "outputs": []
    },
    {
      "cell_type": "markdown",
      "source": [
        "Next, call your chat bot."
      ],
      "metadata": {
        "id": "IvjbjGwCzMD_"
      }
    },
    {
      "cell_type": "code",
      "source": [
        "user_input = \"Hi there! My name is Hamza.\"\n",
        "# The config is the **second positional argument** to stream() or invoke()!\n",
        "events = graph.stream(\n",
        "    {\"messages\": [(\"user\", user_input)]}, config, stream_mode=\"values\"\n",
        ")\n",
        "for event in events:\n",
        "  event[\"messages\"][-1].pretty_print()"
      ],
      "metadata": {
        "colab": {
          "base_uri": "https://localhost:8080/"
        },
        "id": "AEaqWTmnzIo8",
        "outputId": "82e78b83-9207-437b-f897-cf4663b1c13b"
      },
      "execution_count": null,
      "outputs": [
        {
          "output_type": "stream",
          "name": "stdout",
          "text": [
            "================================\u001b[1m Human Message \u001b[0m=================================\n",
            "\n",
            "Hi there! My name is Hamza.\n",
            "==================================\u001b[1m Ai Message \u001b[0m==================================\n",
            "\n",
            "Nice to meet you, Hamza! How can I help you today?\n"
          ]
        }
      ]
    },
    {
      "cell_type": "markdown",
      "source": [
        "**Note**: The config was provided as the **second positional argument** when calling our graph. It importantly is not nested within the graph inputs `({'messages': []}).`\n",
        "\n",
        "Let's ask a followup: see if it remembers your name."
      ],
      "metadata": {
        "id": "emrsPE9ez-dx"
      }
    },
    {
      "cell_type": "code",
      "source": [
        "user_input = \"Remember my name?\"\n",
        "# The config is the **second positional argument** to stream() or invoke()!\n",
        "events = graph.stream(\n",
        "    {\"messages\": [(\"user\", user_input)]}, config, stream_mode=\"values\"\n",
        ")\n",
        "for event in events:\n",
        "  event[\"messages\"][-1].pretty_print()"
      ],
      "metadata": {
        "colab": {
          "base_uri": "https://localhost:8080/"
        },
        "id": "gy_WfvGdz4tW",
        "outputId": "d7fcb319-9fd0-46ef-c2ba-626b65647cd3"
      },
      "execution_count": null,
      "outputs": [
        {
          "output_type": "stream",
          "name": "stdout",
          "text": [
            "================================\u001b[1m Human Message \u001b[0m=================================\n",
            "\n",
            "Remember my name?\n",
            "==================================\u001b[1m Ai Message \u001b[0m==================================\n",
            "\n",
            "I will try my best to remember your name, Hamza!  Is there anything specific you would like to talk about or ask me? 😊\n"
          ]
        }
      ]
    },
    {
      "cell_type": "markdown",
      "source": [
        "**Notice** that we aren't using an external list for memory: it's all handled by the checkpointer! You can inspect the full execution in this `LangSmith trace` to see what's going on.\n",
        "\n",
        "Don't believe me? Try this using a different config."
      ],
      "metadata": {
        "id": "w3K9OuaB0ZHA"
      }
    },
    {
      "cell_type": "code",
      "source": [
        "# The only difference is we change the `thread_id` here to \"2\" instead of \"1\"\n",
        "events = graph.stream(\n",
        "    {\"messages\": [(\"user\", \"What is my name?\")]},\n",
        "    {\"configurable\": {\"thread_id\": \"2\"}},\n",
        "    stream_mode=\"values\",\n",
        ")\n",
        "for event in events:\n",
        "  event[\"messages\"][-1].pretty_print()"
      ],
      "metadata": {
        "colab": {
          "base_uri": "https://localhost:8080/"
        },
        "id": "NdOCcbr40q8B",
        "outputId": "f73977a1-c814-457a-e41f-80ea0265c9b5"
      },
      "execution_count": null,
      "outputs": [
        {
          "output_type": "stream",
          "name": "stdout",
          "text": [
            "================================\u001b[1m Human Message \u001b[0m=================================\n",
            "\n",
            "What is my name?\n",
            "==================================\u001b[1m Ai Message \u001b[0m==================================\n",
            "\n",
            "I do not have access to personal information about you, including your name. I am a language model and do not have the ability to store or retrieve personal data.\n"
          ]
        }
      ]
    },
    {
      "cell_type": "markdown",
      "source": [
        "**Notice** that the **only** change we've made is to modify the `thread_id` in the config. See this call's ```LangSmith trace``` for comparison.\n",
        "\n",
        "By now, we have made a few checkpoints across two different threads. But what goes into a checkpoint? To inspect a graph's `state` for a given config at any time, call `get_state(config)`."
      ],
      "metadata": {
        "id": "0N3cPQxp2zsn"
      }
    },
    {
      "cell_type": "code",
      "source": [
        "snapshot = graph.get_state(config)\n",
        "snapshot"
      ],
      "metadata": {
        "colab": {
          "base_uri": "https://localhost:8080/"
        },
        "id": "ioys2er53A33",
        "outputId": "2e15852a-9f9a-4998-8dc3-5007fcd78faa"
      },
      "execution_count": null,
      "outputs": [
        {
          "output_type": "execute_result",
          "data": {
            "text/plain": [
              "StateSnapshot(values={'messages': [HumanMessage(content='Hi there! My name is Hamza.', additional_kwargs={}, response_metadata={}, id='b16c5dba-0ce5-45b2-86a6-e470201db59f'), AIMessage(content='Nice to meet you, Hamza! How can I help you today? \\n', additional_kwargs={}, response_metadata={'prompt_feedback': {'block_reason': 0, 'safety_ratings': []}, 'finish_reason': 'STOP', 'safety_ratings': [{'category': 'HARM_CATEGORY_SEXUALLY_EXPLICIT', 'probability': 'NEGLIGIBLE', 'blocked': False}, {'category': 'HARM_CATEGORY_HATE_SPEECH', 'probability': 'NEGLIGIBLE', 'blocked': False}, {'category': 'HARM_CATEGORY_HARASSMENT', 'probability': 'NEGLIGIBLE', 'blocked': False}, {'category': 'HARM_CATEGORY_DANGEROUS_CONTENT', 'probability': 'NEGLIGIBLE', 'blocked': False}]}, id='run-d6f7e7eb-b4c1-4f7a-8fea-7dd656e2ce5b-0', usage_metadata={'input_tokens': 82, 'output_tokens': 14, 'total_tokens': 96, 'input_token_details': {'cache_read': 0}}), HumanMessage(content='Remember my name?', additional_kwargs={}, response_metadata={}, id='ce989346-86bb-4d8c-b4f7-455960819e4a'), AIMessage(content='I will try my best to remember your name, Hamza!  Is there anything specific you would like to talk about or ask me? 😊 \\n', additional_kwargs={}, response_metadata={'prompt_feedback': {'block_reason': 0, 'safety_ratings': []}, 'finish_reason': 'STOP', 'safety_ratings': [{'category': 'HARM_CATEGORY_SEXUALLY_EXPLICIT', 'probability': 'NEGLIGIBLE', 'blocked': False}, {'category': 'HARM_CATEGORY_HATE_SPEECH', 'probability': 'NEGLIGIBLE', 'blocked': False}, {'category': 'HARM_CATEGORY_HARASSMENT', 'probability': 'NEGLIGIBLE', 'blocked': False}, {'category': 'HARM_CATEGORY_DANGEROUS_CONTENT', 'probability': 'NEGLIGIBLE', 'blocked': False}]}, id='run-fec5d71e-68c8-4a8a-896f-6723686b5af5-0', usage_metadata={'input_tokens': 104, 'output_tokens': 28, 'total_tokens': 132, 'input_token_details': {'cache_read': 0}}), HumanMessage(content='What is my name?', additional_kwargs={}, response_metadata={}, id='5e6ebda3-d763-4dd8-8cb2-a35c6196aff0'), AIMessage(content=\"Your name is Hamza! 😊  I'm trying my best to remember.  Anything else I can help you with? \\n\", additional_kwargs={}, response_metadata={'prompt_feedback': {'block_reason': 0, 'safety_ratings': []}, 'finish_reason': 'STOP', 'safety_ratings': [{'category': 'HARM_CATEGORY_SEXUALLY_EXPLICIT', 'probability': 'NEGLIGIBLE', 'blocked': False}, {'category': 'HARM_CATEGORY_HATE_SPEECH', 'probability': 'NEGLIGIBLE', 'blocked': False}, {'category': 'HARM_CATEGORY_HARASSMENT', 'probability': 'NEGLIGIBLE', 'blocked': False}, {'category': 'HARM_CATEGORY_DANGEROUS_CONTENT', 'probability': 'NEGLIGIBLE', 'blocked': False}]}, id='run-7184e0d4-4ad0-438b-9c4b-7e5ba34aecd0-0', usage_metadata={'input_tokens': 141, 'output_tokens': 25, 'total_tokens': 166, 'input_token_details': {'cache_read': 0}})]}, next=(), config={'configurable': {'thread_id': '1', 'checkpoint_ns': '', 'checkpoint_id': '1ef9ba85-7a22-6c70-8007-7215112aa777'}}, metadata={'source': 'loop', 'writes': {'chatbot': {'messages': [AIMessage(content=\"Your name is Hamza! 😊  I'm trying my best to remember.  Anything else I can help you with? \\n\", additional_kwargs={}, response_metadata={'prompt_feedback': {'block_reason': 0, 'safety_ratings': []}, 'finish_reason': 'STOP', 'safety_ratings': [{'category': 'HARM_CATEGORY_SEXUALLY_EXPLICIT', 'probability': 'NEGLIGIBLE', 'blocked': False}, {'category': 'HARM_CATEGORY_HATE_SPEECH', 'probability': 'NEGLIGIBLE', 'blocked': False}, {'category': 'HARM_CATEGORY_HARASSMENT', 'probability': 'NEGLIGIBLE', 'blocked': False}, {'category': 'HARM_CATEGORY_DANGEROUS_CONTENT', 'probability': 'NEGLIGIBLE', 'blocked': False}]}, id='run-7184e0d4-4ad0-438b-9c4b-7e5ba34aecd0-0', usage_metadata={'input_tokens': 141, 'output_tokens': 25, 'total_tokens': 166, 'input_token_details': {'cache_read': 0}})]}}, 'thread_id': '1', 'step': 7, 'parents': {}}, created_at='2024-11-05T19:01:19.883142+00:00', parent_config={'configurable': {'thread_id': '1', 'checkpoint_ns': '', 'checkpoint_id': '1ef9ba85-7661-6263-8006-3444ced774c8'}}, tasks=())"
            ]
          },
          "metadata": {},
          "execution_count": 37
        }
      ]
    },
    {
      "cell_type": "code",
      "source": [
        "snapshot.next  # (since the graph ended this turn, `next` is empty. If you fetch a state from within a graph invocation, next tells which node will execute next)\n"
      ],
      "metadata": {
        "colab": {
          "base_uri": "https://localhost:8080/"
        },
        "id": "fC_gsLnN3Gxs",
        "outputId": "56c802ad-df9a-4ae5-de23-4085fa0a8c03"
      },
      "execution_count": null,
      "outputs": [
        {
          "output_type": "execute_result",
          "data": {
            "text/plain": [
              "()"
            ]
          },
          "metadata": {},
          "execution_count": 38
        }
      ]
    },
    {
      "cell_type": "markdown",
      "source": [
        "The snapshot above contains the current state values, corresponding config, and the `next` node to process. In our case, the graph has reached an `END` state, so `next` is empty."
      ],
      "metadata": {
        "id": "0jrxZ2EQ3T8y"
      }
    },
    {
      "cell_type": "markdown",
      "source": [
        "# Part 4: Human In The Loop\n",
        "\n",
        "Agents can be unreliable and may need human input to successfully accomplish tasks. Similarly, for some actions, you may want to require human approval before running to ensure that everything is running as intended.\n",
        "\n",
        "LangGraph supports `human-in-the-loop` workflows in a number of ways. In this section, we will use LangGraph's `interrupt_before` functionality to always break the tool node.\n",
        "\n",
        "First, start from our existing code. The following is copied from Part 3."
      ],
      "metadata": {
        "id": "WpPfdSA2uMUL"
      }
    },
    {
      "cell_type": "code",
      "source": [
        "from typing import Annotated\n",
        "from langchain_community.tools.tavily_search import TavilySearchResults\n",
        "from typing_extensions import TypedDict\n",
        "\n",
        "from langgraph.checkpoint.memory import MemorySaver\n",
        "from langgraph.graph import StateGraph, START\n",
        "from langgraph.graph.message import add_messages\n",
        "from langgraph.prebuilt import ToolNode, tools_condition\n",
        "\n",
        "memory = MemorySaver()\n",
        "\n",
        "\n",
        "class State(TypedDict):\n",
        "    messages: Annotated[list, add_messages]\n",
        "\n",
        "\n",
        "graph_builder = StateGraph(State)\n",
        "\n",
        "\n",
        "tool = TavilySearchResults(max_results=2)\n",
        "tools = [tool]\n",
        "llm_with_tools = llm.bind_tools(tools)\n",
        "\n",
        "\n",
        "def chatbot(state: State):\n",
        "    return {\"messages\": [llm_with_tools.invoke(state[\"messages\"])]}\n",
        "\n",
        "\n",
        "graph_builder.add_node(\"chatbot\", chatbot)\n",
        "\n",
        "tool_node = ToolNode(tools=[tool])\n",
        "graph_builder.add_node(\"tools\", tool_node)\n",
        "\n",
        "graph_builder.add_conditional_edges(\n",
        "    \"chatbot\",\n",
        "    tools_condition,\n",
        ")\n",
        "graph_builder.add_edge(\"tools\", \"chatbot\")\n",
        "graph_builder.add_edge(START, \"chatbot\")"
      ],
      "metadata": {
        "id": "oRlLBQEW3ZKp",
        "colab": {
          "base_uri": "https://localhost:8080/"
        },
        "outputId": "985321c1-3d33-47c3-ccac-a97cbc1c72d1"
      },
      "execution_count": null,
      "outputs": [
        {
          "output_type": "execute_result",
          "data": {
            "text/plain": [
              "<langgraph.graph.state.StateGraph at 0x7f14e426aaa0>"
            ]
          },
          "metadata": {},
          "execution_count": 51
        }
      ]
    },
    {
      "cell_type": "markdown",
      "source": [
        "\n",
        "Now, compile the graph, specifying to `interrupt_before` the `tools` node."
      ],
      "metadata": {
        "id": "Br-mjwWR0PPL"
      }
    },
    {
      "cell_type": "code",
      "source": [
        "graph = graph_builder.compile(\n",
        "    checkpointer=memory,\n",
        "    # This is new!\n",
        "    interrupt_before=[\"tools\"],\n",
        "    # Note: can also interrupt __after__ tools, if desired.\n",
        "    # interrupt_after=[\"tools\"]\n",
        ")"
      ],
      "metadata": {
        "id": "Fq80Evyw0Snn"
      },
      "execution_count": null,
      "outputs": []
    },
    {
      "cell_type": "code",
      "source": [
        "user_input = \"I am learning Langgraph. Could you do some research on it for me?\"\n",
        "config = {\"configurable\": {\"thread_id\": \"3\"}}\n",
        "# The config is the **second positional argument** to stream() or invoke()!\n",
        "events = graph.stream(\n",
        "    {\"messages\": [(\"user\", user_input)]}, config, stream_mode=\"values\"\n",
        ")\n",
        "for event in events:\n",
        "  if \"messages\" in event:\n",
        "    event[\"messages\"][-1].pretty_print()"
      ],
      "metadata": {
        "colab": {
          "base_uri": "https://localhost:8080/"
        },
        "id": "RzdoEujM0kEc",
        "outputId": "f3e0fff3-1070-4987-cfad-6bf23a7cad16"
      },
      "execution_count": null,
      "outputs": [
        {
          "output_type": "stream",
          "name": "stdout",
          "text": [
            "================================\u001b[1m Human Message \u001b[0m=================================\n",
            "\n",
            "I am learning Langgraph. Could you do some research on it for me?\n",
            "==================================\u001b[1m Ai Message \u001b[0m==================================\n",
            "Tool Calls:\n",
            "  tavily_search_results_json (dc7a67f6-ad9e-4199-b60e-f3560f6e7ff8)\n",
            " Call ID: dc7a67f6-ad9e-4199-b60e-f3560f6e7ff8\n",
            "  Args:\n",
            "    query: Langgraph\n"
          ]
        }
      ]
    },
    {
      "cell_type": "markdown",
      "source": [
        "Let's inspect the graph state to confirm it worked."
      ],
      "metadata": {
        "id": "wTc7ZR161UtC"
      }
    },
    {
      "cell_type": "code",
      "source": [
        "snapshot = graph.get_state(config)\n",
        "snapshot.next"
      ],
      "metadata": {
        "colab": {
          "base_uri": "https://localhost:8080/"
        },
        "id": "0US_cog21VIK",
        "outputId": "dde29684-eb4e-4560-88ee-aa5b043d8c63"
      },
      "execution_count": null,
      "outputs": [
        {
          "output_type": "execute_result",
          "data": {
            "text/plain": [
              "('tools',)"
            ]
          },
          "metadata": {},
          "execution_count": 55
        }
      ]
    },
    {
      "cell_type": "code",
      "source": [
        "snapshot.config"
      ],
      "metadata": {
        "colab": {
          "base_uri": "https://localhost:8080/"
        },
        "id": "V71xMbcA1qB1",
        "outputId": "1e338806-7291-4775-db5f-891368abd9dd"
      },
      "execution_count": null,
      "outputs": [
        {
          "output_type": "execute_result",
          "data": {
            "text/plain": [
              "{'configurable': {'thread_id': '3',\n",
              "  'checkpoint_ns': '',\n",
              "  'checkpoint_id': '1ef9baf1-289e-6fe1-8001-149ee0ec67ae'}}"
            ]
          },
          "metadata": {},
          "execution_count": 56
        }
      ]
    },
    {
      "cell_type": "code",
      "source": [
        "snapshot.values"
      ],
      "metadata": {
        "colab": {
          "base_uri": "https://localhost:8080/"
        },
        "id": "Uc0_QPtP1rZc",
        "outputId": "bdb065c8-ad8a-4913-d9f2-142b525d82b8"
      },
      "execution_count": null,
      "outputs": [
        {
          "output_type": "execute_result",
          "data": {
            "text/plain": [
              "{'messages': [HumanMessage(content='I am learning Langgraph. Could you do some research on it for me?', additional_kwargs={}, response_metadata={}, id='62b6bf0a-6cd7-4b17-bb40-f79a053a7f87'),\n",
              "  AIMessage(content='', additional_kwargs={'function_call': {'name': 'tavily_search_results_json', 'arguments': '{\"query\": \"Langgraph\"}'}}, response_metadata={'prompt_feedback': {'block_reason': 0, 'safety_ratings': []}, 'finish_reason': 'STOP', 'safety_ratings': [{'category': 'HARM_CATEGORY_DANGEROUS_CONTENT', 'probability': 'NEGLIGIBLE', 'blocked': False}, {'category': 'HARM_CATEGORY_HATE_SPEECH', 'probability': 'NEGLIGIBLE', 'blocked': False}, {'category': 'HARM_CATEGORY_SEXUALLY_EXPLICIT', 'probability': 'NEGLIGIBLE', 'blocked': False}, {'category': 'HARM_CATEGORY_HARASSMENT', 'probability': 'NEGLIGIBLE', 'blocked': False}]}, id='run-552d050b-9532-4db8-b367-44205aff8bd5-0', tool_calls=[{'name': 'tavily_search_results_json', 'args': {'query': 'Langgraph'}, 'id': 'dc7a67f6-ad9e-4199-b60e-f3560f6e7ff8', 'type': 'tool_call'}], usage_metadata={'input_tokens': 90, 'output_tokens': 21, 'total_tokens': 111, 'input_token_details': {'cache_read': 0}})]}"
            ]
          },
          "metadata": {},
          "execution_count": 57
        }
      ]
    },
    {
      "cell_type": "code",
      "source": [
        "existing_message = snapshot.values[\"messages\"][-1]\n",
        "existing_message.pretty_print()"
      ],
      "metadata": {
        "colab": {
          "base_uri": "https://localhost:8080/"
        },
        "id": "PT-Vp35N1zAS",
        "outputId": "e0607b0f-b734-409a-bde5-ce557d4ac7a6"
      },
      "execution_count": null,
      "outputs": [
        {
          "output_type": "stream",
          "name": "stdout",
          "text": [
            "==================================\u001b[1m Ai Message \u001b[0m==================================\n",
            "Tool Calls:\n",
            "  tavily_search_results_json (dc7a67f6-ad9e-4199-b60e-f3560f6e7ff8)\n",
            " Call ID: dc7a67f6-ad9e-4199-b60e-f3560f6e7ff8\n",
            "  Args:\n",
            "    query: Langgraph\n"
          ]
        }
      ]
    },
    {
      "cell_type": "markdown",
      "source": [
        "**Notice** that unlike last time, the \"next\" node is set to **'tools'**. We've interrupted here! Let's check the tool invocation."
      ],
      "metadata": {
        "id": "kAwMaVzz2aUr"
      }
    },
    {
      "cell_type": "code",
      "source": [
        "existing_message.tool_calls"
      ],
      "metadata": {
        "colab": {
          "base_uri": "https://localhost:8080/"
        },
        "id": "CFbOCoIh2IfF",
        "outputId": "cfe3e7bf-8512-43da-cd4b-c665162bf5c4"
      },
      "execution_count": null,
      "outputs": [
        {
          "output_type": "execute_result",
          "data": {
            "text/plain": [
              "[{'name': 'tavily_search_results_json',\n",
              "  'args': {'query': 'Langgraph'},\n",
              "  'id': 'dc7a67f6-ad9e-4199-b60e-f3560f6e7ff8',\n",
              "  'type': 'tool_call'}]"
            ]
          },
          "metadata": {},
          "execution_count": 59
        }
      ]
    },
    {
      "cell_type": "markdown",
      "source": [
        "This query seems reasonable. Nothing to filter here. The simplest thing the human can do is just let the graph continue executing. Let's do that below.\n",
        "\n",
        "Next, continue the graph! Passing in `None` will just let the graph continue where it left off, without adding anything new to the state."
      ],
      "metadata": {
        "id": "dIMy4Tfd2oPQ"
      }
    },
    {
      "cell_type": "code",
      "source": [
        "# `None` will append nothing new to the current state, letting it resume as if it had never been interrupted\n",
        "events = graph.stream(None, config, stream_mode=\"values\")\n",
        "for event in events:\n",
        "    if \"messages\" in event:\n",
        "        event[\"messages\"][-1].pretty_print()"
      ],
      "metadata": {
        "colab": {
          "base_uri": "https://localhost:8080/"
        },
        "id": "nyRoeozm2K2F",
        "outputId": "5b95eacc-8aa6-4b54-9425-1da8ac843366"
      },
      "execution_count": null,
      "outputs": [
        {
          "output_type": "stream",
          "name": "stdout",
          "text": [
            "==================================\u001b[1m Ai Message \u001b[0m==================================\n",
            "Tool Calls:\n",
            "  tavily_search_results_json (dc7a67f6-ad9e-4199-b60e-f3560f6e7ff8)\n",
            " Call ID: dc7a67f6-ad9e-4199-b60e-f3560f6e7ff8\n",
            "  Args:\n",
            "    query: Langgraph\n",
            "=================================\u001b[1m Tool Message \u001b[0m=================================\n",
            "Name: tavily_search_results_json\n",
            "\n",
            "[{\"url\": \"https://langchain-ai.github.io/langgraph/\", \"content\": \"LangGraph is a framework for creating stateful, multi-actor applications with LLMs, using cycles, controllability, and persistence. Learn how to use LangGraph with LangChain, LangSmith, and Anthropic tools to build agent and multi-agent workflows.\"}, {\"url\": \"https://www.datacamp.com/tutorial/langgraph-tutorial\", \"content\": \"LangGraph is a library within the LangChain ecosystem that simplifies the development of complex, multi-agent large language model (LLM) applications. Learn how to use LangGraph to create stateful, flexible, and scalable systems with nodes, edges, and state management.\"}]\n",
            "==================================\u001b[1m Ai Message \u001b[0m==================================\n",
            "\n",
            "LangGraph is a framework for creating stateful, multi-actor applications with LLMs, using cycles, controllability, and persistence. It is a library within the LangChain ecosystem and simplifies the development of complex, multi-agent large language model (LLM) applications. You can use LangGraph to create stateful, flexible, and scalable systems with nodes, edges, and state management. It's used with LangChain, LangSmith, and Anthropic tools to build agent and multi-agent workflows.\n"
          ]
        }
      ]
    },
    {
      "cell_type": "markdown",
      "source": [
        "#Part 5: Manually Updating The State\n",
        "\n",
        "In the previous section, we showed how to interrupt a graph so that a human could inspect its actions. This lets the human `read` the state, but if they want to change their agent's course, they'll need to have `write` access.\n",
        "\n",
        "Thankfully, LangGraph lets you **manually update state**! Updating the state lets you control the agent's trajectory by modifying its actions (even modifying the past!). This capability is particularly useful when you want to correct the agent's mistakes, explore alternative paths, or guide the agent towards a specific goal.\n",
        "\n",
        "We'll show how to update a checkpointed state below. As before, first, define your graph. We'll reuse the exact same graph as before."
      ],
      "metadata": {
        "id": "7toQaXAJ5ovs"
      }
    },
    {
      "cell_type": "code",
      "source": [
        "from typing import Annotated\n",
        "\n",
        "from langchain_community.tools.tavily_search import TavilySearchResults\n",
        "from typing_extensions import TypedDict\n",
        "\n",
        "from langgraph.checkpoint.memory import MemorySaver\n",
        "from langgraph.graph import StateGraph, START\n",
        "from langgraph.graph.message import add_messages\n",
        "from langgraph.prebuilt import ToolNode, tools_condition\n",
        "\n",
        "\n",
        "class State(TypedDict):\n",
        "    messages: Annotated[list, add_messages]\n",
        "\n",
        "\n",
        "graph_builder = StateGraph(State)\n",
        "\n",
        "\n",
        "tool = TavilySearchResults(max_results=2)\n",
        "tools = [tool]\n",
        "llm_with_tools = llm.bind_tools(tools)\n",
        "\n",
        "\n",
        "def chatbot(state: State):\n",
        "    return {\"messages\": [llm_with_tools.invoke(state[\"messages\"])]}\n",
        "\n",
        "\n",
        "graph_builder.add_node(\"chatbot\", chatbot)\n",
        "\n",
        "tool_node = ToolNode(tools=[tool])\n",
        "graph_builder.add_node(\"tools\", tool_node)\n",
        "\n",
        "graph_builder.add_conditional_edges(\n",
        "    \"chatbot\",\n",
        "    tools_condition,\n",
        ")\n",
        "graph_builder.add_edge(\"tools\", \"chatbot\")\n",
        "graph_builder.add_edge(START, \"chatbot\")\n",
        "memory = MemorySaver()\n",
        "graph = graph_builder.compile(\n",
        "    checkpointer=memory,\n",
        "    # This is new!\n",
        "    interrupt_before=[\"tools\"],\n",
        "    # Note: can also interrupt **after** actions, if desired.\n",
        "    # interrupt_after=[\"tools\"]\n",
        ")\n",
        "\n",
        "user_input = \"I'm learning LangGraph. Could you do some research on it for me?\"\n",
        "config = {\"configurable\": {\"thread_id\": \"4\"}}\n",
        "# The config is the **second positional argument** to stream() or invoke()!\n",
        "events = graph.stream({\"messages\": [(\"user\", user_input)]}, config, stream_mode=\"values\")\n",
        "for event in events:\n",
        "    if \"messages\" in event:\n",
        "        event[\"messages\"][-1].pretty_print()"
      ],
      "metadata": {
        "colab": {
          "base_uri": "https://localhost:8080/"
        },
        "id": "5Du_2jdq593h",
        "outputId": "b9018f1c-b38f-43dd-9141-e787d9b47035"
      },
      "execution_count": null,
      "outputs": [
        {
          "output_type": "stream",
          "name": "stdout",
          "text": [
            "================================\u001b[1m Human Message \u001b[0m=================================\n",
            "\n",
            "I'm learning LangGraph. Could you do some research on it for me?\n",
            "==================================\u001b[1m Ai Message \u001b[0m==================================\n",
            "Tool Calls:\n",
            "  tavily_search_results_json (b9e24fed-e2ab-4819-84a3-d55608ca11c3)\n",
            " Call ID: b9e24fed-e2ab-4819-84a3-d55608ca11c3\n",
            "  Args:\n",
            "    query: LangGraph\n"
          ]
        }
      ]
    },
    {
      "cell_type": "code",
      "source": [
        "snapshot = graph.get_state(config)\n",
        "existing_message = snapshot.values[\"messages\"][-1]\n",
        "existing_message.pretty_print()"
      ],
      "metadata": {
        "colab": {
          "base_uri": "https://localhost:8080/"
        },
        "id": "tuLTc5UU65lw",
        "outputId": "29c4922f-6331-4c5a-bb16-439bb4e9f4cc"
      },
      "execution_count": null,
      "outputs": [
        {
          "output_type": "stream",
          "name": "stdout",
          "text": [
            "==================================\u001b[1m Ai Message \u001b[0m==================================\n",
            "Tool Calls:\n",
            "  tavily_search_results_json (50fcaf6c-7092-48ce-9df8-9be35a1f059e)\n",
            " Call ID: 50fcaf6c-7092-48ce-9df8-9be35a1f059e\n",
            "  Args:\n",
            "    query: LangGraph\n"
          ]
        }
      ]
    },
    {
      "cell_type": "markdown",
      "source": [
        "So far, all of this is an exact repeat of the previous section. The LLM just requested to use the search engine tool and our graph was interrupted. If we proceed as before, the tool will be called to search the web.\n",
        "\n",
        "But what if the user wants to intercede? What if we think the chat bot doesn't need to use the tool?\n",
        "\n",
        "Let's directly provide the correct response!"
      ],
      "metadata": {
        "id": "sGVSp8a5-EMV"
      }
    },
    {
      "cell_type": "code",
      "source": [
        "# just for example\n",
        "from langchain_core.messages import AIMessage, ToolMessage\n",
        "\n",
        "abc = ToolMessage(content=\"Hi i am ToolMessage Response\", tool_call_id=\"123\")\n",
        "abc"
      ],
      "metadata": {
        "colab": {
          "base_uri": "https://localhost:8080/"
        },
        "id": "CsntXac4-EvV",
        "outputId": "e68991dc-9e61-4873-9575-6e0aaf574d98"
      },
      "execution_count": null,
      "outputs": [
        {
          "output_type": "execute_result",
          "data": {
            "text/plain": [
              "ToolMessage(content='Hi i am ToolMessage Response', tool_call_id='123')"
            ]
          },
          "metadata": {},
          "execution_count": 81
        }
      ]
    },
    {
      "cell_type": "code",
      "source": [
        "from langchain_core.messages import AIMessage, ToolMessage\n",
        "\n",
        "answer = (\n",
        "    \"LangGraph is a library for building stateful, multi-actor applications with LLMs.\"\n",
        ")\n",
        "new_messages = [\n",
        "    # The LLM API expects some ToolMessage to match its tool call. We'll satisfy that here.\n",
        "    ToolMessage(content=answer, tool_call_id=existing_message.tool_calls[0][\"id\"]),\n",
        "    # And then directly \"put words in the LLM's mouth\" by populating its response.\n",
        "    AIMessage(content=answer),\n",
        "]\n"
      ],
      "metadata": {
        "id": "EtigF73__y0V"
      },
      "execution_count": null,
      "outputs": []
    },
    {
      "cell_type": "code",
      "source": [
        "new_messages[-1].pretty_print()"
      ],
      "metadata": {
        "colab": {
          "base_uri": "https://localhost:8080/"
        },
        "id": "lTTrE8gOAIvS",
        "outputId": "f4e29b33-71b8-4d05-b711-fb63186a5b39"
      },
      "execution_count": null,
      "outputs": [
        {
          "output_type": "stream",
          "name": "stdout",
          "text": [
            "==================================\u001b[1m Ai Message \u001b[0m==================================\n",
            "\n",
            "LangGraph is a library for building stateful, multi-actor applications with LLMs.\n"
          ]
        }
      ]
    },
    {
      "cell_type": "code",
      "source": [
        "for m in new_messages:\n",
        "    m.pretty_print()"
      ],
      "metadata": {
        "colab": {
          "base_uri": "https://localhost:8080/"
        },
        "id": "SDkXMDF_ALpX",
        "outputId": "f07dc109-91c4-4d12-81eb-60e6b943fcb4"
      },
      "execution_count": null,
      "outputs": [
        {
          "output_type": "stream",
          "name": "stdout",
          "text": [
            "=================================\u001b[1m Tool Message \u001b[0m=================================\n",
            "\n",
            "LangGraph is a library for building stateful, multi-actor applications with LLMs.\n",
            "==================================\u001b[1m Ai Message \u001b[0m==================================\n",
            "\n",
            "LangGraph is a library for building stateful, multi-actor applications with LLMs.\n"
          ]
        }
      ]
    },
    {
      "cell_type": "code",
      "source": [
        "graph.update_state(\n",
        "    # Which state to update\n",
        "    config,\n",
        "    # The updated values to provide. The messages in our `State` are \"append-only\", meaning this will be appended\n",
        "    # to the existing state. We will review how to update existing messages in the next section!\n",
        "    {\"messages\": new_messages},\n",
        ")\n",
        "\n",
        "print(\"\\nLast 2 messages;\")\n",
        "print(graph.get_state(config).values[\"messages\"][-2:])"
      ],
      "metadata": {
        "colab": {
          "base_uri": "https://localhost:8080/"
        },
        "id": "12KReAmxAEzn",
        "outputId": "d36127a7-7aa1-468a-bc56-5a58f8390c6d"
      },
      "execution_count": null,
      "outputs": [
        {
          "output_type": "stream",
          "name": "stdout",
          "text": [
            "\n",
            "Last 2 messages;\n",
            "[ToolMessage(content='LangGraph is a library for building stateful, multi-actor applications with LLMs.', id='a8732ffc-bd88-404f-86dc-7a4bee1afa50', tool_call_id='50fcaf6c-7092-48ce-9df8-9be35a1f059e'), AIMessage(content='LangGraph is a library for building stateful, multi-actor applications with LLMs.', additional_kwargs={}, response_metadata={}, id='aef81000-9e33-4ad1-bc8b-e998809f4bc2')]\n"
          ]
        }
      ]
    },
    {
      "cell_type": "code",
      "source": [
        "for m in graph.get_state(config).values[\"messages\"]:\n",
        "    m.pretty_print()"
      ],
      "metadata": {
        "colab": {
          "base_uri": "https://localhost:8080/"
        },
        "id": "Vqf0f3EhBm5D",
        "outputId": "afbfc338-9932-42ad-efd6-76e5bda97eef"
      },
      "execution_count": null,
      "outputs": [
        {
          "output_type": "stream",
          "name": "stdout",
          "text": [
            "================================\u001b[1m Human Message \u001b[0m=================================\n",
            "\n",
            "I'm learning LangGraph. Could you do some research on it for me?\n",
            "==================================\u001b[1m Ai Message \u001b[0m==================================\n",
            "Tool Calls:\n",
            "  tavily_search_results_json (50fcaf6c-7092-48ce-9df8-9be35a1f059e)\n",
            " Call ID: 50fcaf6c-7092-48ce-9df8-9be35a1f059e\n",
            "  Args:\n",
            "    query: LangGraph\n",
            "=================================\u001b[1m Tool Message \u001b[0m=================================\n",
            "\n",
            "LangGraph is a library for building stateful, multi-actor applications with LLMs.\n",
            "==================================\u001b[1m Ai Message \u001b[0m==================================\n",
            "\n",
            "LangGraph is a library for building stateful, multi-actor applications with LLMs.\n"
          ]
        }
      ]
    },
    {
      "cell_type": "code",
      "source": [
        "snapshot = graph.get_state(config)\n",
        "snapshot.next"
      ],
      "metadata": {
        "colab": {
          "base_uri": "https://localhost:8080/"
        },
        "id": "W5ylEF7CBgO2",
        "outputId": "8945c0ae-1285-4baf-8726-8d079b7b1651"
      },
      "execution_count": null,
      "outputs": [
        {
          "output_type": "execute_result",
          "data": {
            "text/plain": [
              "()"
            ]
          },
          "metadata": {},
          "execution_count": 88
        }
      ]
    },
    {
      "cell_type": "markdown",
      "source": [
        "Now the graph is complete, since we've provided the final response message! Since state updates simulate a graph step, they even generate corresponding traces. Inspec the `LangSmith trace` of the `update_state` call above to see what's going on.\n",
        "\n",
        "**Notice** that our new messages are appended to the messages already in the `state`. Remember how we defined the State type?\n",
        "\n",
        "class State(TypedDict):\n",
        "      messages: Annotated[list, add_messages]\n",
        "\n",
        "We annotated `messages` with the pre-built `add_messages` function. This instructs the graph to always append values to the existing list, rather than overwriting the list directly. The same logic is applied here, so the messages we passed to `update_state` were appended in the same way!\n",
        "\n",
        "The `update_state` function operates as if it were one of the nodes in your graph! By default, the update operation uses the node that was last executed, but you can manually specify it below. Let's add an update and tell the graph to treat it as if it came from the \"chatbot\"."
      ],
      "metadata": {
        "id": "4yGkU_vVDnBB"
      }
    },
    {
      "cell_type": "code",
      "source": [
        "graph.update_state(\n",
        "    config,\n",
        "    {\"messages\": [AIMessage(content=\"I'm an AI expert!\")]},\n",
        "    # Which node for this function to act as. It will automatically continue\n",
        "    # processing as if this node just ran.\n",
        "    as_node=\"chatbot\",\n",
        ")"
      ],
      "metadata": {
        "colab": {
          "base_uri": "https://localhost:8080/"
        },
        "id": "3X56F7LPE5u7",
        "outputId": "92a569d4-6233-4313-8e52-6b69f4ecfea4"
      },
      "execution_count": null,
      "outputs": [
        {
          "output_type": "execute_result",
          "data": {
            "text/plain": [
              "{'configurable': {'thread_id': '4',\n",
              "  'checkpoint_ns': '',\n",
              "  'checkpoint_id': '1ef9bc46-3b4f-650b-8004-0a82afcfe42b'}}"
            ]
          },
          "metadata": {},
          "execution_count": 89
        }
      ]
    },
    {
      "cell_type": "code",
      "source": [
        "for m in graph.get_state(config).values[\"messages\"]:\n",
        "    m.pretty_print()"
      ],
      "metadata": {
        "colab": {
          "base_uri": "https://localhost:8080/"
        },
        "id": "9MkoQTr3Gc-R",
        "outputId": "ff4c64ef-025a-4c66-b176-d00fa00f5fec"
      },
      "execution_count": null,
      "outputs": [
        {
          "output_type": "stream",
          "name": "stdout",
          "text": [
            "================================\u001b[1m Human Message \u001b[0m=================================\n",
            "\n",
            "I'm learning LangGraph. Could you do some research on it for me?\n",
            "==================================\u001b[1m Ai Message \u001b[0m==================================\n",
            "Tool Calls:\n",
            "  tavily_search_results_json (50fcaf6c-7092-48ce-9df8-9be35a1f059e)\n",
            " Call ID: 50fcaf6c-7092-48ce-9df8-9be35a1f059e\n",
            "  Args:\n",
            "    query: LangGraph\n",
            "=================================\u001b[1m Tool Message \u001b[0m=================================\n",
            "\n",
            "LangGraph is a library for building stateful, multi-actor applications with LLMs.\n",
            "==================================\u001b[1m Ai Message \u001b[0m==================================\n",
            "\n",
            "LangGraph is a library for building stateful, multi-actor applications with LLMs.\n",
            "==================================\u001b[1m Ai Message \u001b[0m==================================\n",
            "\n",
            "I'm an AI expert!\n"
          ]
        }
      ]
    },
    {
      "cell_type": "markdown",
      "source": [
        "Check out the LangSmith trace for this update call at the provided link. **Notice** from the trace that the graph continues into the `tools_condition` edge. We just told the graph to treat the update `as_node=\"chatbot\"`. If we follow the diagram below and start from the `chatbot` node, we naturally end up in the `tools_condition` edge and then `__end__` since our updated message lacks tool calls."
      ],
      "metadata": {
        "id": "FQKmuocVGzvm"
      }
    },
    {
      "cell_type": "code",
      "source": [
        "from IPython.display import Image, display\n",
        "\n",
        "try:\n",
        "    display(Image(graph.get_graph().draw_mermaid_png()))\n",
        "except Exception:\n",
        "    # This requires some extra dependencies and is optional\n",
        "    pass"
      ],
      "metadata": {
        "colab": {
          "base_uri": "https://localhost:8080/",
          "height": 308
        },
        "id": "XOcNZlj7GfC3",
        "outputId": "3bb846d8-6f2e-4fea-93f9-3caab439ef1a"
      },
      "execution_count": null,
      "outputs": [
        {
          "output_type": "display_data",
          "data": {
            "image/jpeg": "[encoded data removed]",
            "text/plain": [
              "<IPython.core.display.Image object>"
            ]
          },
          "metadata": {}
        }
      ]
    },
    {
      "cell_type": "markdown",
      "source": [
        "Inspect the current state as before to confirm the checkpoint reflects our manual updates."
      ],
      "metadata": {
        "id": "9_d99Zrlbxdb"
      }
    },
    {
      "cell_type": "code",
      "source": [
        "snapshot = graph.get_state(config)\n",
        "print(snapshot.values[\"messages\"][-3:])\n",
        "print(snapshot.next)"
      ],
      "metadata": {
        "id": "-nUc5zd5HIHo",
        "colab": {
          "base_uri": "https://localhost:8080/"
        },
        "outputId": "87ba033a-4aac-44d7-ea93-f697eb1c3adf"
      },
      "execution_count": null,
      "outputs": [
        {
          "output_type": "stream",
          "name": "stdout",
          "text": [
            "[ToolMessage(content='LangGraph is a library for building stateful, multi-actor applications with LLMs.', id='a8732ffc-bd88-404f-86dc-7a4bee1afa50', tool_call_id='50fcaf6c-7092-48ce-9df8-9be35a1f059e'), AIMessage(content='LangGraph is a library for building stateful, multi-actor applications with LLMs.', additional_kwargs={}, response_metadata={}, id='aef81000-9e33-4ad1-bc8b-e998809f4bc2'), AIMessage(content=\"I'm an AI expert!\", additional_kwargs={}, response_metadata={}, id='4d1765d6-19e7-4d54-9185-c420991508cf')]\n",
            "()\n"
          ]
        }
      ]
    },
    {
      "cell_type": "markdown",
      "source": [
        "**Notice**: that we've continued to add AI messages to the state. Since we are acting as the `chatbot` and responding with an AIMessage that doesn't contain `tool_calls`, the graph knows that it has entered a finished state (`next` is empty)."
      ],
      "metadata": {
        "id": "UDjI_eMtb10f"
      }
    },
    {
      "cell_type": "markdown",
      "source": [
        "##What if you want to **overwrite** existing messages?\n",
        "The `add_messages` function we used to annotate our graph's `State` above controls how updates are made to the `messages` key. This function looks at any message IDs in the new `messages` list. If the ID matches a message in the existing state, `add_messages` overwrites the existing message with the new content.\n",
        "\n",
        "As an example, let's update the tool invocation to make sure we get good results from our search engine! First, start a new thread:"
      ],
      "metadata": {
        "id": "6JmlF8qAcPfV"
      }
    },
    {
      "cell_type": "code",
      "source": [
        "# Just for example\n",
        "from langchain_core.messages import HumanMessage\n",
        "user_query = [HumanMessage(id=1, content=\"I want to learn Langchain and learn more about it\")]\n",
        "updated_user_query = [HumanMessage(id=1, content=\"I want to learn Langgraph and learn more about it\")]"
      ],
      "metadata": {
        "id": "3bFB3xgXbzyI"
      },
      "execution_count": null,
      "outputs": []
    },
    {
      "cell_type": "code",
      "source": [
        "final_query = add_messages(user_query, updated_user_query)\n",
        "final_query"
      ],
      "metadata": {
        "colab": {
          "base_uri": "https://localhost:8080/"
        },
        "id": "SHT48V06e4e3",
        "outputId": "b8019b04-14fe-47c5-ee23-a335f2ec1c23"
      },
      "execution_count": null,
      "outputs": [
        {
          "output_type": "execute_result",
          "data": {
            "text/plain": [
              "[HumanMessage(content='I want to learn Langgraph and learn more about it', additional_kwargs={}, response_metadata={}, id='1')]"
            ]
          },
          "metadata": {},
          "execution_count": 106
        }
      ]
    },
    {
      "cell_type": "code",
      "source": [
        "user_input = \"I'm learning LangGraph. Could you do some research on it for me?\"\n",
        "config = {\"configurable\": {\"thread_id\": \"5\"}}\n",
        "# The config is the **second positional argument** to stream() or invoke()!\n",
        "events = graph.stream(\n",
        "    {\"messages\": [(\"user\", user_input)]}, config, stream_mode=\"values\"\n",
        ")\n",
        "for event in events:\n",
        "  if \"messages\" in event:\n",
        "    event[\"messages\"][-1].pretty_print()"
      ],
      "metadata": {
        "colab": {
          "base_uri": "https://localhost:8080/"
        },
        "id": "MA-uZHShfqgO",
        "outputId": "1a882bbe-e0cc-41e4-fe47-8711b1123a93"
      },
      "execution_count": null,
      "outputs": [
        {
          "output_type": "stream",
          "name": "stdout",
          "text": [
            "================================\u001b[1m Human Message \u001b[0m=================================\n",
            "\n",
            "I'm learning LangGraph. Could you do some research on it for me?\n",
            "==================================\u001b[1m Ai Message \u001b[0m==================================\n",
            "Tool Calls:\n",
            "  tavily_search_results_json (920ce834-6009-4882-956f-5462917baad1)\n",
            " Call ID: 920ce834-6009-4882-956f-5462917baad1\n",
            "  Args:\n",
            "    query: LangGraph\n"
          ]
        }
      ]
    },
    {
      "cell_type": "markdown",
      "source": [
        "**Next**, let's update the tool invocation for our agent. Maybe we want to search for human-in-the-loop workflows in particular."
      ],
      "metadata": {
        "id": "xXhqRcBwgvwe"
      }
    },
    {
      "cell_type": "code",
      "source": [
        "from langchain_core.messages import AIMessage\n",
        "\n",
        "snapshot = graph.get_state(config)"
      ],
      "metadata": {
        "id": "6t_dfUjFgxef"
      },
      "execution_count": null,
      "outputs": []
    },
    {
      "cell_type": "code",
      "source": [
        "existing_messages = snapshot.values[\"messages\"][-1]\n",
        "print(\"Original\")\n",
        "print(existing_messages.pretty_print())\n",
        "print(\"Message ID:\", existing_messages.id)\n",
        "print(existing_messages.tool_calls[0])"
      ],
      "metadata": {
        "colab": {
          "base_uri": "https://localhost:8080/"
        },
        "id": "gV7bZvRWhQlk",
        "outputId": "cd682dfa-2bde-421f-e325-ae0af1c4a656"
      },
      "execution_count": null,
      "outputs": [
        {
          "output_type": "stream",
          "name": "stdout",
          "text": [
            "Original\n",
            "==================================\u001b[1m Ai Message \u001b[0m==================================\n",
            "Tool Calls:\n",
            "  tavily_search_results_json (920ce834-6009-4882-956f-5462917baad1)\n",
            " Call ID: 920ce834-6009-4882-956f-5462917baad1\n",
            "  Args:\n",
            "    query: LangGraph\n",
            "None\n",
            "Message ID: run-215b3f72-6430-4949-8261-6c8a8763781c-0\n",
            "{'name': 'tavily_search_results_json', 'args': {'query': 'LangGraph'}, 'id': '920ce834-6009-4882-956f-5462917baad1', 'type': 'tool_call'}\n"
          ]
        }
      ]
    },
    {
      "cell_type": "code",
      "source": [
        "new_tool_call = existing_messages.tool_calls[0].copy()\n",
        "new_tool_call[\"args\"][\"query\"] = \"LangGraph human-in-the-loop workflow\"\n",
        "new_message = AIMessage(\n",
        "    content=existing_messages.content,\n",
        "    tool_calls=[new_tool_call],\n",
        "    # Important! The ID is how LangGraph knows to REPLACE the message in the state rather than APPEND this messages\n",
        "    id=existing_messages.id,\n",
        ")"
      ],
      "metadata": {
        "id": "lDMD-rv3jv5X"
      },
      "execution_count": null,
      "outputs": []
    },
    {
      "cell_type": "code",
      "source": [
        "new_message.pretty_print()"
      ],
      "metadata": {
        "colab": {
          "base_uri": "https://localhost:8080/"
        },
        "id": "dtxHVbyQkrwn",
        "outputId": "13733806-08af-4e8f-9b2d-c674e61632f8"
      },
      "execution_count": null,
      "outputs": [
        {
          "output_type": "stream",
          "name": "stdout",
          "text": [
            "==================================\u001b[1m Ai Message \u001b[0m==================================\n",
            "Tool Calls:\n",
            "  tavily_search_results_json (920ce834-6009-4882-956f-5462917baad1)\n",
            " Call ID: 920ce834-6009-4882-956f-5462917baad1\n",
            "  Args:\n",
            "    query: LangGraph human-in-the-loop workflow\n"
          ]
        }
      ]
    },
    {
      "cell_type": "code",
      "source": [
        "print(\"Updated\")\n",
        "print(new_message.tool_calls[0])\n",
        "print(\"Message ID\", new_message.id)"
      ],
      "metadata": {
        "colab": {
          "base_uri": "https://localhost:8080/"
        },
        "id": "WCYRnU4NnbmT",
        "outputId": "b37ae265-24dc-4915-8040-54f0f8175aac"
      },
      "execution_count": null,
      "outputs": [
        {
          "output_type": "stream",
          "name": "stdout",
          "text": [
            "Updated\n",
            "{'name': 'tavily_search_results_json', 'args': {'query': 'LangGraph human-in-the-loop workflow'}, 'id': '920ce834-6009-4882-956f-5462917baad1', 'type': 'tool_call'}\n",
            "Message ID run-215b3f72-6430-4949-8261-6c8a8763781c-0\n"
          ]
        }
      ]
    },
    {
      "cell_type": "code",
      "source": [
        "graph.update_state(config, {\"messages\": [new_message]})\n",
        "print(\"\\nTool calls\")\n",
        "graph.get_state(config).values[\"messages\"][-1].tool_calls"
      ],
      "metadata": {
        "colab": {
          "base_uri": "https://localhost:8080/"
        },
        "id": "d7sxic5SnzUM",
        "outputId": "598240b6-05ad-4776-c506-43f492e5eb80"
      },
      "execution_count": null,
      "outputs": [
        {
          "output_type": "stream",
          "name": "stdout",
          "text": [
            "\n",
            "Tool calls\n"
          ]
        },
        {
          "output_type": "execute_result",
          "data": {
            "text/plain": [
              "[{'name': 'tavily_search_results_json',\n",
              "  'args': {'query': 'LangGraph human-in-the-loop workflow'},\n",
              "  'id': '920ce834-6009-4882-956f-5462917baad1',\n",
              "  'type': 'tool_call'}]"
            ]
          },
          "metadata": {},
          "execution_count": 15
        }
      ]
    },
    {
      "cell_type": "code",
      "source": [
        "for m in graph.get_state(config).values[\"messages\"]:\n",
        "  m.pretty_print()"
      ],
      "metadata": {
        "colab": {
          "base_uri": "https://localhost:8080/"
        },
        "id": "qrjk35QHovmv",
        "outputId": "fa83b8cd-9f35-4f42-fe23-ba3cd2c02221"
      },
      "execution_count": null,
      "outputs": [
        {
          "output_type": "stream",
          "name": "stdout",
          "text": [
            "================================\u001b[1m Human Message \u001b[0m=================================\n",
            "\n",
            "I'm learning LangGraph. Could you do some research on it for me?\n",
            "==================================\u001b[1m Ai Message \u001b[0m==================================\n",
            "Tool Calls:\n",
            "  tavily_search_results_json (920ce834-6009-4882-956f-5462917baad1)\n",
            " Call ID: 920ce834-6009-4882-956f-5462917baad1\n",
            "  Args:\n",
            "    query: LangGraph human-in-the-loop workflow\n"
          ]
        }
      ]
    },
    {
      "cell_type": "markdown",
      "source": [
        "**Notice** that we've modified the AI's tool invocation to search for \"LangGraph human-in-the-loop workflow\" instead of the simple \"LangGraph\".\n",
        "\n",
        "Check out the LangSmith trace to see the state update call - you can see our new message has successfully updated the previous AI message.\n",
        "\n",
        "Resume the graph by streaming with an input of `None` and the existing config."
      ],
      "metadata": {
        "id": "U6V8UM9spXDY"
      }
    },
    {
      "cell_type": "code",
      "source": [
        "events = graph.stream(None, config, stream_mode=\"values\")\n",
        "for event in events:\n",
        "    if \"messages\" in event:\n",
        "        event[\"messages\"][-1].pretty_print()"
      ],
      "metadata": {
        "colab": {
          "base_uri": "https://localhost:8080/"
        },
        "id": "mLHwsktWo7Ki",
        "outputId": "23eaa543-b307-40e8-df46-2f27dd4628f2"
      },
      "execution_count": null,
      "outputs": [
        {
          "output_type": "stream",
          "name": "stdout",
          "text": [
            "==================================\u001b[1m Ai Message \u001b[0m==================================\n",
            "Tool Calls:\n",
            "  tavily_search_results_json (920ce834-6009-4882-956f-5462917baad1)\n",
            " Call ID: 920ce834-6009-4882-956f-5462917baad1\n",
            "  Args:\n",
            "    query: LangGraph human-in-the-loop workflow\n",
            "=================================\u001b[1m Tool Message \u001b[0m=================================\n",
            "Name: tavily_search_results_json\n",
            "\n",
            "[{\"url\": \"https://www.js-craft.io/blog/human-loop-langgraph-javascript/\", \"content\": \"Human-in-the-Loop in LangGraph (JavaScript version) When discussing AI agents, one concept we can't overlook is Human-in-the-Loop (HITL). Human-in-the-Loop refers to the active involvement of humans in the decision-making processes of AI agents. There are several ways to integrate humans into the AI loop. One common method is authorization, where the AI agent requires human approval for specific actions before proceeding. Another key interaction type is continuous feedback loops, where humans provide guidance throughout the AI’s work, not just at the end. A common HITL interaction pattern involves the AI agent pausing to request human input, allowing for clarification and feedback. In the next article, we will explore a practical code implementation of the Human-in-the-Loop mechanism using a LangGraph agent.\"}, {\"url\": \"https://www.youtube.com/watch?v=9BPCV5TYPmg\", \"content\": \"In this video, I'll show you how to handle persistence with LangGraph, enabling a unique Human-in-the-Loop workflow.\"}]\n",
            "==================================\u001b[1m Ai Message \u001b[0m==================================\n",
            "\n",
            "LangGraph appears to be a tool for building AI agents that integrates with human input. The code examples I found suggest it's a JavaScript-based system.  A key feature is the \"Human-in-the-Loop\" workflow, where humans can provide feedback and guidance to the AI agent during its operation. \n",
            "\n",
            "There's also a video that demonstrates how to use LangGraph for persistence, which allows the AI agent to store and retrieve data.\n"
          ]
        }
      ]
    },
    {
      "cell_type": "markdown",
      "source": [
        "Check out the trace to see the tool call and later LLM response. **Notice** that now the graph queries the search engine using our updated query term - we were able to manually override the LLM's search here!\n",
        "\n",
        "All of this is reflected in the graph's checkpointed memory, meaning if we continue the conversation, it will recall all the modified state."
      ],
      "metadata": {
        "id": "hwkmG3JDqJ8G"
      }
    },
    {
      "cell_type": "code",
      "source": [
        "events = graph.stream(\n",
        "    {\"messages\":(\"user\", \"Remember what I'm learning about?\")}, config, stream_mode=\"values\"\n",
        ")\n",
        "for event in events:\n",
        "  if \"messages\" in event:\n",
        "    event[\"messages\"][-1].pretty_print()"
      ],
      "metadata": {
        "colab": {
          "base_uri": "https://localhost:8080/"
        },
        "id": "TB89kt_lqM6d",
        "outputId": "8e40dafb-01a5-415a-93d9-26a2b179af81"
      },
      "execution_count": null,
      "outputs": [
        {
          "output_type": "stream",
          "name": "stdout",
          "text": [
            "================================\u001b[1m Human Message \u001b[0m=================================\n",
            "\n",
            "Remember what I'm learning about?\n",
            "==================================\u001b[1m Ai Message \u001b[0m==================================\n",
            "\n",
            "You're learning about LangGraph, a tool for building AI agents that allows human input and uses a \"Human-in-the-Loop\" workflow for feedback and guidance.\n"
          ]
        }
      ]
    },
    {
      "cell_type": "code",
      "source": [
        "for m in graph.get_state(config).values[\"messages\"]:\n",
        "  m.pretty_print()"
      ],
      "metadata": {
        "colab": {
          "base_uri": "https://localhost:8080/"
        },
        "id": "1e2GwuRc4BZn",
        "outputId": "402221e4-dfc7-4ca8-9086-be0e55fe05c4"
      },
      "execution_count": null,
      "outputs": [
        {
          "output_type": "stream",
          "name": "stdout",
          "text": [
            "================================\u001b[1m Human Message \u001b[0m=================================\n",
            "\n",
            "I'm learning LangGraph. Could you do some research on it for me?\n",
            "==================================\u001b[1m Ai Message \u001b[0m==================================\n",
            "Tool Calls:\n",
            "  tavily_search_results_json (920ce834-6009-4882-956f-5462917baad1)\n",
            " Call ID: 920ce834-6009-4882-956f-5462917baad1\n",
            "  Args:\n",
            "    query: LangGraph human-in-the-loop workflow\n",
            "=================================\u001b[1m Tool Message \u001b[0m=================================\n",
            "Name: tavily_search_results_json\n",
            "\n",
            "[{\"url\": \"https://www.js-craft.io/blog/human-loop-langgraph-javascript/\", \"content\": \"Human-in-the-Loop in LangGraph (JavaScript version) When discussing AI agents, one concept we can't overlook is Human-in-the-Loop (HITL). Human-in-the-Loop refers to the active involvement of humans in the decision-making processes of AI agents. There are several ways to integrate humans into the AI loop. One common method is authorization, where the AI agent requires human approval for specific actions before proceeding. Another key interaction type is continuous feedback loops, where humans provide guidance throughout the AI’s work, not just at the end. A common HITL interaction pattern involves the AI agent pausing to request human input, allowing for clarification and feedback. In the next article, we will explore a practical code implementation of the Human-in-the-Loop mechanism using a LangGraph agent.\"}, {\"url\": \"https://www.youtube.com/watch?v=9BPCV5TYPmg\", \"content\": \"In this video, I'll show you how to handle persistence with LangGraph, enabling a unique Human-in-the-Loop workflow.\"}]\n",
            "==================================\u001b[1m Ai Message \u001b[0m==================================\n",
            "\n",
            "LangGraph appears to be a tool for building AI agents that integrates with human input. The code examples I found suggest it's a JavaScript-based system.  A key feature is the \"Human-in-the-Loop\" workflow, where humans can provide feedback and guidance to the AI agent during its operation. \n",
            "\n",
            "There's also a video that demonstrates how to use LangGraph for persistence, which allows the AI agent to store and retrieve data.\n",
            "================================\u001b[1m Human Message \u001b[0m=================================\n",
            "\n",
            "Remember what I'm learning about?\n",
            "==================================\u001b[1m Ai Message \u001b[0m==================================\n",
            "\n",
            "You're learning about LangGraph, a tool for building AI agents that allows human input and uses a \"Human-in-the-Loop\" workflow for feedback and guidance.\n"
          ]
        }
      ]
    },
    {
      "cell_type": "markdown",
      "source": [
        "#Part 6: Customizing State\n",
        "So far, we've relied on a simple state (it's just a list of messages!). You can go far with this simple state, but if you want to define complex behavior without relying on the message list, you can add additional fields to the state. In this section, we will extend our chat bot with a new node to illustrate this.\n",
        "\n",
        "In the examples above, we involved a human deterministically: the graph **always** interrupted whenever an tool was invoked. Suppose we wanted our chat bot to have the choice of relying on a human.\n",
        "\n",
        "One way to do this is to create a passthrough \"human\" node, before which the graph will always stop. We will only execute this node if the LLM invokes a \"human\" tool. For our convenience, we will include an \"ask_human\" flag in our graph state that we will flip if the LLM calls this tool.\n",
        "\n",
        "Below, define this new graph, with an updated `State`"
      ],
      "metadata": {
        "id": "cnl1DLFZDDRP"
      }
    },
    {
      "cell_type": "code",
      "source": [
        "from typing import Annotated\n",
        "\n",
        "from langchain_community.tools.tavily_search import TavilySearchResults\n",
        "from typing_extensions import TypedDict\n",
        "\n",
        "from langgraph.checkpoint.memory import MemorySaver\n",
        "from langgraph.graph import StateGraph, START, END\n",
        "from langgraph.graph.message import add_messages\n",
        "from langgraph.prebuilt import ToolNode, tools_condition\n",
        "\n",
        "\n",
        "class State(TypedDict):\n",
        "    messages: Annotated[list, add_messages]\n",
        "    # This flag is new\n",
        "    ask_human: bool"
      ],
      "metadata": {
        "id": "yRWia35zDSO1"
      },
      "execution_count": null,
      "outputs": []
    },
    {
      "cell_type": "markdown",
      "source": [
        "Next, define a schema to show the model to let it decide to request assistance.\n",
        "\n",
        "Using Pydantic with LangChain\n",
        "\n",
        "This notebook uses Pydantic v2 `BaseModel`, which requires `langchain-core >= 0.3`. Using `langchain-core < 0.3` will result in errors due to mixing of Pydantic v1 and v2 `BaseModels`."
      ],
      "metadata": {
        "id": "gv2tvy3xG1gV"
      }
    },
    {
      "cell_type": "code",
      "source": [
        "from pydantic import BaseModel\n",
        "\n",
        "\n",
        "class RequestAssistance(BaseModel):\n",
        "    \"\"\"Escalate the conversation to an expert. Use this if you are unable to assist directly or if the user requires support beyond your permissions.\n",
        "\n",
        "    To use this function, relay the user's 'request' so the expert can provide the right guidance.\n",
        "    \"\"\"\n",
        "\n",
        "    request: str"
      ],
      "metadata": {
        "id": "iXnBXT-cG5GU"
      },
      "execution_count": null,
      "outputs": []
    },
    {
      "cell_type": "code",
      "source": [
        "abc = RequestAssistance(request=\"I need help\")\n",
        "print(abc)"
      ],
      "metadata": {
        "colab": {
          "base_uri": "https://localhost:8080/"
        },
        "id": "J498htUFHto6",
        "outputId": "4c903a07-e2e9-43a0-d8c3-b365a32d8666"
      },
      "execution_count": null,
      "outputs": [
        {
          "output_type": "stream",
          "name": "stdout",
          "text": [
            "request='I need help'\n"
          ]
        }
      ]
    },
    {
      "cell_type": "code",
      "source": [
        "abc.request"
      ],
      "metadata": {
        "colab": {
          "base_uri": "https://localhost:8080/",
          "height": 35
        },
        "id": "X8jo-lCGHy9u",
        "outputId": "baf710a3-af48-4de8-c23a-3fe596abb2cc"
      },
      "execution_count": null,
      "outputs": [
        {
          "output_type": "execute_result",
          "data": {
            "text/plain": [
              "'I need help'"
            ],
            "application/vnd.google.colaboratory.intrinsic+json": {
              "type": "string"
            }
          },
          "metadata": {},
          "execution_count": 23
        }
      ]
    },
    {
      "cell_type": "markdown",
      "source": [
        "Next, define the chatbot node. The primary modification here is flip the `ask_human` flag if we see that the chat bot has invoked the `RequestAssistance` flag."
      ],
      "metadata": {
        "id": "ZpkYkBiKIRow"
      }
    },
    {
      "cell_type": "code",
      "source": [
        "tool = TavilySearchResults(max_results=2)\n",
        "tools = [tool]\n",
        "\n",
        "# We can bind the llm to a tool definition, a pydantic model, or a json schema\n",
        "llm_with_tools = llm.bind_tools(tools + [RequestAssistance])"
      ],
      "metadata": {
        "id": "Bv6KCLyvH1mp"
      },
      "execution_count": null,
      "outputs": []
    },
    {
      "cell_type": "code",
      "source": [
        "llm_with_tools"
      ],
      "metadata": {
        "colab": {
          "base_uri": "https://localhost:8080/"
        },
        "id": "KJui59wHIwI1",
        "outputId": "f1319a25-42dd-425c-bfb1-1d4ef87d9b8d"
      },
      "execution_count": null,
      "outputs": [
        {
          "output_type": "execute_result",
          "data": {
            "text/plain": [
              "RunnableBinding(bound=ChatGoogleGenerativeAI(model='models/gemini-1.5-flash', google_api_key=SecretStr('**********'), max_retries=2, client=<google.ai.generativelanguage_v1beta.services.generative_service.client.GenerativeServiceClient object at 0x7edb996cc1f0>, default_metadata=()), kwargs={'tools': [{'type': 'function', 'function': {'name': 'tavily_search_results_json', 'description': 'A search engine optimized for comprehensive, accurate, and trusted results. Useful for when you need to answer questions about current events. Input should be a search query.', 'parameters': {'properties': {'query': {'description': 'search query to look up', 'type': 'string'}}, 'required': ['query'], 'type': 'object'}}}, {'type': 'function', 'function': {'name': 'RequestAssistance', 'description': \"Escalate the conversation to an expert. Use this if you are unable to assist directly or if the user requires support beyond your permissions.\\n\\nTo use this function, relay the user's 'request' so the expert can provide the right guidance.\", 'parameters': {'properties': {'request': {'type': 'string'}}, 'required': ['request'], 'type': 'object'}}}]}, config={}, config_factories=[])"
            ]
          },
          "metadata": {},
          "execution_count": 25
        }
      ]
    },
    {
      "cell_type": "code",
      "source": [
        "result = llm_with_tools.invoke(\"Connect me with a langgraph expert for paid project\")\n",
        "result.pretty_print()"
      ],
      "metadata": {
        "colab": {
          "base_uri": "https://localhost:8080/"
        },
        "id": "2fNJ1GepIxuL",
        "outputId": "69cbcadc-322a-4d5b-b02a-ff4a3cd2e258"
      },
      "execution_count": null,
      "outputs": [
        {
          "output_type": "stream",
          "name": "stdout",
          "text": [
            "==================================\u001b[1m Ai Message \u001b[0m==================================\n",
            "Tool Calls:\n",
            "  RequestAssistance (e58ee10d-9e87-4224-969e-46410a88a052)\n",
            " Call ID: e58ee10d-9e87-4224-969e-46410a88a052\n",
            "  Args:\n",
            "    request: Connect me with a langgraph expert for paid project\n"
          ]
        }
      ]
    },
    {
      "cell_type": "code",
      "source": [
        "result = llm_with_tools.invoke(\"Search about Langgraph\")\n",
        "result.pretty_print()"
      ],
      "metadata": {
        "colab": {
          "base_uri": "https://localhost:8080/"
        },
        "id": "L9psGBylJtzF",
        "outputId": "8cde9bec-2067-4a40-9983-1620a36f708c"
      },
      "execution_count": null,
      "outputs": [
        {
          "output_type": "stream",
          "name": "stdout",
          "text": [
            "==================================\u001b[1m Ai Message \u001b[0m==================================\n",
            "Tool Calls:\n",
            "  tavily_search_results_json (ec8b1874-8f6e-4d3d-8ebd-de3c6ec1cc8b)\n",
            " Call ID: ec8b1874-8f6e-4d3d-8ebd-de3c6ec1cc8b\n",
            "  Args:\n",
            "    query: Langgraph\n"
          ]
        }
      ]
    },
    {
      "cell_type": "code",
      "source": [
        "def chatbot(state: State):\n",
        "  response = llm_with_tools.invoke(state[\"messages\"])\n",
        "  ask_human = False\n",
        "  if (\n",
        "  response.tool_calls\n",
        "  and response.tool_calls[0][\"name\"] == RequestAssistance.__name__\n",
        "  ):\n",
        "    ask_human = True\n",
        "  return {\"messages\": [response], \"ask_human\": ask_human}"
      ],
      "metadata": {
        "id": "KAYEZARxKBU5"
      },
      "execution_count": null,
      "outputs": []
    },
    {
      "cell_type": "markdown",
      "source": [
        "Next, create the graph builder and add the chatbot and tools nodes to the graph, same as before."
      ],
      "metadata": {
        "id": "ftmaexj5LnFS"
      }
    },
    {
      "cell_type": "code",
      "source": [
        "graph_builder = StateGraph(State)\n",
        "\n",
        "graph_builder.add_node(\"chatbot\", chatbot)\n",
        "graph_builder.add_node(\"tools\", ToolNode(tools=[tool]))"
      ],
      "metadata": {
        "id": "_SW4PArILnoV",
        "colab": {
          "base_uri": "https://localhost:8080/"
        },
        "outputId": "b33da878-1d30-4ca7-ff0f-eecd6eec2dcd"
      },
      "execution_count": null,
      "outputs": [
        {
          "output_type": "execute_result",
          "data": {
            "text/plain": [
              "<langgraph.graph.state.StateGraph at 0x7ed3e01741f0>"
            ]
          },
          "metadata": {},
          "execution_count": 33
        }
      ]
    },
    {
      "cell_type": "markdown",
      "source": [
        "Next, create the \"human\" `node`. This `node` function is mostly a placeholder in our graph that will trigger an interrupt. If the human does **not** manually update the state during the `interrupt`, it inserts a tool message so the LLM knows the user was requested but didn't respond. This node also unsets the `ask_human` flag so the graph knows not to revisit the node unless further requests are made."
      ],
      "metadata": {
        "id": "YmVYD_oC5zQJ"
      }
    },
    {
      "cell_type": "code",
      "source": [
        "from langchain_core.messages import AIMessage, ToolMessage\n",
        "\n",
        "\n",
        "def create_response(response: str, ai_message: AIMessage):\n",
        "    return ToolMessage(\n",
        "        content=response,\n",
        "        tool_call_id=ai_message.tool_calls[0][\"id\"],\n",
        "    )\n",
        "\n",
        "\n",
        "def human_node(state: State):\n",
        "    new_messages = []\n",
        "    if not isinstance(state[\"messages\"][-1], ToolMessage):\n",
        "        # Typically, the user will have updated the state during the interrupt.\n",
        "        # If they choose not to, we will include a placeholder ToolMessage to\n",
        "        # let the LLM continue.\n",
        "        new_messages.append(\n",
        "            create_response(\"No response from human.\", state[\"messages\"][-1])\n",
        "        )\n",
        "    return {\n",
        "        # Append the new messages\n",
        "        \"messages\": new_messages,\n",
        "        # Unset the flag\n",
        "        \"ask_human\": False,\n",
        "    }\n",
        "\n",
        "\n",
        "graph_builder.add_node(\"human\", human_node)"
      ],
      "metadata": {
        "colab": {
          "base_uri": "https://localhost:8080/"
        },
        "id": "55MRCt3s6VKj",
        "outputId": "e11ecd0b-1a2a-4bb4-ccd9-cb19c14fe7ee"
      },
      "execution_count": null,
      "outputs": [
        {
          "output_type": "execute_result",
          "data": {
            "text/plain": [
              "<langgraph.graph.state.StateGraph at 0x7ed3e01741f0>"
            ]
          },
          "metadata": {},
          "execution_count": 34
        }
      ]
    },
    {
      "cell_type": "markdown",
      "source": [
        "Next, define the conditional logic. `The select_next_node` will route to the `human` node if the flag is set. Otherwise, it lets the prebuilt `tools_condition` function choose the next node.\n",
        "\n",
        "Recall that the `tools_condition` function simply checks to see if the `chatbot` has responded with any `tool_calls` in its response message. If so, it routes to the `action` node. Otherwise, it ends the graph."
      ],
      "metadata": {
        "id": "UitQTWfW--jG"
      }
    },
    {
      "cell_type": "code",
      "source": [
        "def select_next_node(state:State):\n",
        "  # if in state value ask_human is True\n",
        "  if state[\"ask_human\"]:\n",
        "    return \"human\"\n",
        "  # Otherwise, we can route as before\n",
        "  return tools_condition(state)\n",
        "\n",
        "graph_builder.add_conditional_edges(\n",
        "    \"chatbot\",\n",
        "    select_next_node,\n",
        "    {\"human\": \"human\", \"tools\": \"tools\", END: END},\n",
        ")"
      ],
      "metadata": {
        "colab": {
          "base_uri": "https://localhost:8080/"
        },
        "id": "C8ZmLuek_MyU",
        "outputId": "83d34724-6580-4ffb-ea31-69314ddc1102"
      },
      "execution_count": null,
      "outputs": [
        {
          "output_type": "execute_result",
          "data": {
            "text/plain": [
              "<langgraph.graph.state.StateGraph at 0x7ed3e01741f0>"
            ]
          },
          "metadata": {},
          "execution_count": 35
        }
      ]
    },
    {
      "cell_type": "markdown",
      "source": [
        "Finally, add the simple directed edges and compile the graph. These edges instruct the graph to **always** flow from node `a`->`b` whenever `a` finishes executing."
      ],
      "metadata": {
        "id": "we6EqjQWCRS1"
      }
    },
    {
      "cell_type": "code",
      "source": [
        "# The rest is the same\n",
        "graph_builder.add_edge(START, \"chatbot\")\n",
        "graph_builder.add_edge(\"tools\", \"chatbot\")\n",
        "graph_builder.add_edge(\"human\", \"chatbot\")\n",
        "memory = MemorySaver()\n",
        "graph = graph_builder.compile(\n",
        "    checkpointer=memory,\n",
        "    # We interrupt before 'human' here instead.\n",
        "    interrupt_before=[\"human\"],\n",
        ")"
      ],
      "metadata": {
        "id": "VLzKrZnZCa1P"
      },
      "execution_count": null,
      "outputs": []
    },
    {
      "cell_type": "markdown",
      "source": [
        "If you have the visualization dependencies installed, you can see the graph structure below:"
      ],
      "metadata": {
        "id": "lg9ZThl2Dy7R"
      }
    },
    {
      "cell_type": "code",
      "source": [
        "from IPython.display import Image, display\n",
        "\n",
        "try:\n",
        "    display(Image(graph.get_graph().draw_mermaid_png()))\n",
        "except Exception:\n",
        "    # This requires some extra dependencies and is optional\n",
        "    pass"
      ],
      "metadata": {
        "colab": {
          "base_uri": "https://localhost:8080/",
          "height": 308
        },
        "id": "QZSAzKg4Dzat",
        "outputId": "b98e58c0-29ee-422a-f2bb-02ba4c5e723e"
      },
      "execution_count": null,
      "outputs": [
        {
          "output_type": "display_data",
          "data": {
            "image/jpeg": "[encoded data removed]",
            "text/plain": [
              "<IPython.core.display.Image object>"
            ]
          },
          "metadata": {}
        }
      ]
    },
    {
      "cell_type": "markdown",
      "source": [
        "The chat bot can either request help from a human (chatbot->select->human), invoke the search engine tool (chatbot->select->action), or directly respond (chatbot->select->**end**). Once an action or request has been made, the graph will transition back to the `chatbot` node to continue operations.\n",
        "\n",
        "Let's see this graph in action. We will request for expert assistance to illustrate our graph."
      ],
      "metadata": {
        "id": "4nGFzZuqD62C"
      }
    },
    {
      "cell_type": "code",
      "source": [
        "user_input = \"I need some expert guidance for building this AI agent. Could you request assistance for me?\"\n",
        "config = {\"configurable\": {\"thread_id\": \"6\"}}\n",
        "# The config is the **second positional argument** to stream() or invoke()!\n",
        "events = graph.stream(\n",
        "    {\"messages\": [(\"user\", user_input)]}, config, stream_mode=\"values\"\n",
        ")\n",
        "for event in events:\n",
        "    if \"messages\" in event:\n",
        "        event[\"messages\"][-1].pretty_print()"
      ],
      "metadata": {
        "colab": {
          "base_uri": "https://localhost:8080/"
        },
        "id": "Zh8j9gEpEJLD",
        "outputId": "df3e7417-3a9c-4f9b-df39-82d195037936"
      },
      "execution_count": null,
      "outputs": [
        {
          "output_type": "stream",
          "name": "stdout",
          "text": [
            "================================\u001b[1m Human Message \u001b[0m=================================\n",
            "\n",
            "I need some expert guidance for building this AI agent. Could you request assistance for me?\n",
            "==================================\u001b[1m Ai Message \u001b[0m==================================\n",
            "Tool Calls:\n",
            "  RequestAssistance (539711a5-0e9a-4b58-a918-27a8641b9450)\n",
            " Call ID: 539711a5-0e9a-4b58-a918-27a8641b9450\n",
            "  Args:\n",
            "    request: I need some expert guidance for building this AI agent.\n"
          ]
        }
      ]
    },
    {
      "cell_type": "markdown",
      "source": [
        "**Notice**: the LLM has invoked the `\"RequestAssistance\"` tool we provided it, and the interrupt has been set. Let's inspect the graph state to confirm."
      ],
      "metadata": {
        "id": "2fWntIa9F-EQ"
      }
    },
    {
      "cell_type": "code",
      "source": [
        "snapshot = graph.get_state(config)\n",
        "snapshot.next"
      ],
      "metadata": {
        "colab": {
          "base_uri": "https://localhost:8080/"
        },
        "id": "VPhU_HCDGEOj",
        "outputId": "943d224f-0e20-4240-d903-7cbd71e0b999"
      },
      "execution_count": null,
      "outputs": [
        {
          "output_type": "execute_result",
          "data": {
            "text/plain": [
              "('human',)"
            ]
          },
          "metadata": {},
          "execution_count": 39
        }
      ]
    },
    {
      "cell_type": "markdown",
      "source": [
        "The graph state is indeed **interrupted** before the `'human'` node. We can act as the \"expert\" in this scenario and manually update the state by adding a new ToolMessage with our input.\n",
        "\n",
        "Next, respond to the chatbot's request by:\n",
        "\n",
        "1.Creating a `ToolMessage` with our response. This will be passed back to the `chatbot`.\n",
        "\n",
        "2.Calling `update_state` to manually update the graph state."
      ],
      "metadata": {
        "id": "MayrmPFMGP6K"
      }
    },
    {
      "cell_type": "code",
      "source": [
        "# we need a too_calls_id to create a ToolMessage we get a tool call id for ai_message\n",
        "ai_message = snapshot.values[\"messages\"][-1]\n",
        "ai_message.pretty_print()"
      ],
      "metadata": {
        "colab": {
          "base_uri": "https://localhost:8080/"
        },
        "id": "LNDHfdsGGLo6",
        "outputId": "5c7da665-9602-4051-d997-b6182471df4b"
      },
      "execution_count": null,
      "outputs": [
        {
          "output_type": "stream",
          "name": "stdout",
          "text": [
            "==================================\u001b[1m Ai Message \u001b[0m==================================\n",
            "Tool Calls:\n",
            "  RequestAssistance (539711a5-0e9a-4b58-a918-27a8641b9450)\n",
            " Call ID: 539711a5-0e9a-4b58-a918-27a8641b9450\n",
            "  Args:\n",
            "    request: I need some expert guidance for building this AI agent.\n"
          ]
        }
      ]
    },
    {
      "cell_type": "code",
      "source": [
        "human_response = (\n",
        "     \"We, the experts are here to help! We'd recommend you check out LangGraph to build your agent.\"\n",
        "     \" It's much more reliable and extensible than simple autonomous agents.\"\n",
        ")\n",
        "tool_message = create_response(human_response, ai_message)"
      ],
      "metadata": {
        "id": "Sh6wTGWjHK1j"
      },
      "execution_count": null,
      "outputs": []
    },
    {
      "cell_type": "code",
      "source": [
        "tool_message"
      ],
      "metadata": {
        "colab": {
          "base_uri": "https://localhost:8080/"
        },
        "id": "gU6hHE0IH7c3",
        "outputId": "16ebbfd0-5b37-4a01-e07a-5364089ba477"
      },
      "execution_count": null,
      "outputs": [
        {
          "output_type": "execute_result",
          "data": {
            "text/plain": [
              "ToolMessage(content=\"We, the experts are here to help! We'd recommend you check out LangGraph to build your agent. It's much more reliable and extensible than simple autonomous agents.\", tool_call_id='539711a5-0e9a-4b58-a918-27a8641b9450')"
            ]
          },
          "metadata": {},
          "execution_count": 43
        }
      ]
    },
    {
      "cell_type": "code",
      "source": [
        "graph.update_state(config, {\"messages\": [tool_message]})"
      ],
      "metadata": {
        "colab": {
          "base_uri": "https://localhost:8080/"
        },
        "id": "tR__rbhgH_KP",
        "outputId": "87302fb8-9b34-47da-dde5-875b3d5fcf24"
      },
      "execution_count": null,
      "outputs": [
        {
          "output_type": "execute_result",
          "data": {
            "text/plain": [
              "{'configurable': {'thread_id': '6',\n",
              "  'checkpoint_ns': '',\n",
              "  'checkpoint_id': '1ef9c554-96fc-6ca6-8002-6c7509c80f80'}}"
            ]
          },
          "metadata": {},
          "execution_count": 44
        }
      ]
    },
    {
      "cell_type": "markdown",
      "source": [
        "You can inspect the state to confirm our response was added."
      ],
      "metadata": {
        "id": "HFhzvALXIccJ"
      }
    },
    {
      "cell_type": "code",
      "source": [
        "graph.get_state(config).values[\"messages\"]"
      ],
      "metadata": {
        "colab": {
          "base_uri": "https://localhost:8080/"
        },
        "id": "3PGHCsCpIcz2",
        "outputId": "e191375e-b376-496e-eb5e-032ef226319a"
      },
      "execution_count": null,
      "outputs": [
        {
          "output_type": "execute_result",
          "data": {
            "text/plain": [
              "[HumanMessage(content='I need some expert guidance for building this AI agent. Could you request assistance for me?', additional_kwargs={}, response_metadata={}, id='38f7426b-fe86-4f64-b176-7360f3ab31e4'),\n",
              " AIMessage(content='', additional_kwargs={'function_call': {'name': 'RequestAssistance', 'arguments': '{\"request\": \"I need some expert guidance for building this AI agent.\"}'}}, response_metadata={'prompt_feedback': {'block_reason': 0, 'safety_ratings': []}, 'finish_reason': 'STOP', 'safety_ratings': [{'category': 'HARM_CATEGORY_HARASSMENT', 'probability': 'NEGLIGIBLE', 'blocked': False}, {'category': 'HARM_CATEGORY_HATE_SPEECH', 'probability': 'NEGLIGIBLE', 'blocked': False}, {'category': 'HARM_CATEGORY_DANGEROUS_CONTENT', 'probability': 'NEGLIGIBLE', 'blocked': False}, {'category': 'HARM_CATEGORY_SEXUALLY_EXPLICIT', 'probability': 'NEGLIGIBLE', 'blocked': False}]}, id='run-ee0b246f-46ec-4eb6-a146-13926ce471f0-0', tool_calls=[{'name': 'RequestAssistance', 'args': {'request': 'I need some expert guidance for building this AI agent.'}, 'id': '539711a5-0e9a-4b58-a918-27a8641b9450', 'type': 'tool_call'}], usage_metadata={'input_tokens': 173, 'output_tokens': 24, 'total_tokens': 197, 'input_token_details': {'cache_read': 0}}),\n",
              " ToolMessage(content=\"We, the experts are here to help! We'd recommend you check out LangGraph to build your agent. It's much more reliable and extensible than simple autonomous agents.\", id='0b76898a-aa28-4337-8a97-56134fc9f9a9', tool_call_id='539711a5-0e9a-4b58-a918-27a8641b9450')]"
            ]
          },
          "metadata": {},
          "execution_count": 45
        }
      ]
    },
    {
      "cell_type": "markdown",
      "source": [
        "\n",
        "**Next**, resume the graph by invoking it with `None` as the inputs."
      ],
      "metadata": {
        "id": "96dHHd67Ipyh"
      }
    },
    {
      "cell_type": "code",
      "source": [
        "events = graph.stream(None, config, stream_mode=\"values\")\n",
        "for event in events:\n",
        "    if \"messages\" in event:\n",
        "        event[\"messages\"][-1].pretty_print()"
      ],
      "metadata": {
        "colab": {
          "base_uri": "https://localhost:8080/"
        },
        "id": "6N5pmTEKItWN",
        "outputId": "dd9e2c77-7dc0-40cf-f7cd-d0a7c51f60ad"
      },
      "execution_count": null,
      "outputs": [
        {
          "output_type": "stream",
          "name": "stdout",
          "text": [
            "=================================\u001b[1m Tool Message \u001b[0m=================================\n",
            "\n",
            "We, the experts are here to help! We'd recommend you check out LangGraph to build your agent. It's much more reliable and extensible than simple autonomous agents.\n",
            "=================================\u001b[1m Tool Message \u001b[0m=================================\n",
            "\n",
            "We, the experts are here to help! We'd recommend you check out LangGraph to build your agent. It's much more reliable and extensible than simple autonomous agents.\n",
            "==================================\u001b[1m Ai Message \u001b[0m==================================\n",
            "\n",
            "Okay, I've requested assistance from an expert. They recommend checking out LangGraph for building your AI agent. It's apparently more reliable and extensible than simple autonomous agents.\n"
          ]
        }
      ]
    },
    {
      "cell_type": "code",
      "source": [
        "for m in graph.get_state(config).values[\"messages\"]:\n",
        "  m.pretty_print()"
      ],
      "metadata": {
        "colab": {
          "base_uri": "https://localhost:8080/"
        },
        "id": "ewgT-IXYJSyo",
        "outputId": "e71112a6-34b5-4b7d-e8d0-48bf14dacbd3"
      },
      "execution_count": null,
      "outputs": [
        {
          "output_type": "stream",
          "name": "stdout",
          "text": [
            "================================\u001b[1m Human Message \u001b[0m=================================\n",
            "\n",
            "I need some expert guidance for building this AI agent. Could you request assistance for me?\n",
            "==================================\u001b[1m Ai Message \u001b[0m==================================\n",
            "Tool Calls:\n",
            "  RequestAssistance (539711a5-0e9a-4b58-a918-27a8641b9450)\n",
            " Call ID: 539711a5-0e9a-4b58-a918-27a8641b9450\n",
            "  Args:\n",
            "    request: I need some expert guidance for building this AI agent.\n",
            "=================================\u001b[1m Tool Message \u001b[0m=================================\n",
            "\n",
            "We, the experts are here to help! We'd recommend you check out LangGraph to build your agent. It's much more reliable and extensible than simple autonomous agents.\n",
            "==================================\u001b[1m Ai Message \u001b[0m==================================\n",
            "\n",
            "Okay, I've requested assistance from an expert. They recommend checking out LangGraph for building your AI agent. It's apparently more reliable and extensible than simple autonomous agents.\n"
          ]
        }
      ]
    },
    {
      "cell_type": "markdown",
      "source": [
        "**Notice** that the chat bot has incorporated the updated state in its final response. Since **everything** was checkpointed, the \"expert\" human in the loop could perform the update at any time without impacting the graph's execution."
      ],
      "metadata": {
        "id": "JSxF7IfEJrqx"
      }
    },
    {
      "cell_type": "markdown",
      "source": [
        "# Part 7: Time Travel\n",
        "\n",
        "In a typical chat bot workflow, the user interacts with the bot 1 or more times to accomplish a task. In the previous sections, we saw how to add memory and a human-in-the-loop to be able to checkpoint our graph state and manually override the state to control future responses.\n",
        "\n",
        "But what if you want to let your user start from a previous response and \"branch off\" to explore a separate outcome? Or what if you want users to be able to \"rewind\" your assistant's work to fix some mistakes or try a different strategy (common in applications like autonomous software engineers)?\n",
        "\n",
        "You can create both of these experiences and more using LangGraph's built-in \"time travel\" functionality.\n",
        "\n",
        "In this section, you will \"rewind\" your graph by fetching a checkpoint using the graph's `get_state_history` method. You can then resume execution at this previous point in time.\n",
        "\n",
        "First, recall our chatbot graph. We don't need to make **any** changes from before:"
      ],
      "metadata": {
        "id": "gPdRaYC8xxlZ"
      }
    },
    {
      "cell_type": "code",
      "source": [
        "from typing import Annotated, Literal\n",
        "\n",
        "from langchain_community.tools.tavily_search import TavilySearchResults\n",
        "from langchain_core.messages import AIMessage, ToolMessage\n",
        "\n",
        "# NOTE: you must use langchain-core >= 0.3 with Pydantic v2\n",
        "from pydantic import BaseModel\n",
        "from typing_extensions import TypedDict\n",
        "\n",
        "from langgraph.checkpoint.memory import MemorySaver\n",
        "from langgraph.graph import StateGraph, START, END\n",
        "from langgraph.graph.message import add_messages\n",
        "from langgraph.prebuilt import ToolNode, tools_condition\n",
        "\n",
        "\n",
        "class State(TypedDict):\n",
        "    messages: Annotated[list, add_messages]\n",
        "    # This flag is new\n",
        "    ask_human: bool\n",
        "\n",
        "\n",
        "class RequestAssistance(BaseModel):\n",
        "    \"\"\"Escalate the conversation to an expert. Use this if you are unable to assist directly or if the user requires support beyond your permissions.\n",
        "\n",
        "    To use this function, relay the user's 'request' so the expert can provide the right guidance.\n",
        "    \"\"\"\n",
        "\n",
        "    request: str\n",
        "\n",
        "\n",
        "tool = TavilySearchResults(max_results=2)\n",
        "tools = [tool]\n",
        "# We can bind the llm to a tool definition, a pydantic model, or a json schema\n",
        "llm_with_tools = llm.bind_tools(tools + [RequestAssistance])\n",
        "\n",
        "\n",
        "def chatbot(state: State):\n",
        "    response = llm_with_tools.invoke(state[\"messages\"])\n",
        "    ask_human = False\n",
        "    if (\n",
        "        response.tool_calls\n",
        "        and response.tool_calls[0][\"name\"] == RequestAssistance.__name__\n",
        "    ):\n",
        "        ask_human = True\n",
        "    return {\"messages\": [response], \"ask_human\": ask_human}\n",
        "\n",
        "\n",
        "graph_builder = StateGraph(State)\n",
        "\n",
        "graph_builder.add_node(\"chatbot\", chatbot)\n",
        "graph_builder.add_node(\"tools\", ToolNode(tools=[tool]))\n",
        "\n",
        "\n",
        "def create_response(response: str, ai_message: AIMessage):\n",
        "    return ToolMessage(\n",
        "        content=response,\n",
        "        tool_call_id=ai_message.tool_calls[0][\"id\"],\n",
        "    )\n",
        "\n",
        "\n",
        "def human_node(state: State):\n",
        "    new_messages = []\n",
        "    if not isinstance(state[\"messages\"][-1], ToolMessage):\n",
        "        # Typically, the user will have updated the state during the interrupt.\n",
        "        # If they choose not to, we will include a placeholder ToolMessage to\n",
        "        # let the LLM continue.\n",
        "        new_messages.append(\n",
        "            create_response(\"No response from human.\", state[\"messages\"][-1])\n",
        "        )\n",
        "    return {\n",
        "        # Append the new messages\n",
        "        \"messages\": new_messages,\n",
        "        # Unset the flag\n",
        "        \"ask_human\": False,\n",
        "    }\n",
        "\n",
        "\n",
        "graph_builder.add_node(\"human\", human_node)\n",
        "\n",
        "\n",
        "def select_next_node(state: State):\n",
        "    if state[\"ask_human\"]:\n",
        "        return \"human\"\n",
        "    # Otherwise, we can route as before\n",
        "    return tools_condition(state)\n",
        "\n",
        "\n",
        "graph_builder.add_conditional_edges(\n",
        "    \"chatbot\",\n",
        "    select_next_node,\n",
        "    {\"human\": \"human\", \"tools\": \"tools\", END: END},\n",
        ")\n",
        "graph_builder.add_edge(\"tools\", \"chatbot\")\n",
        "graph_builder.add_edge(\"human\", \"chatbot\")\n",
        "graph_builder.add_edge(START, \"chatbot\")\n",
        "memory = MemorySaver()\n",
        "graph = graph_builder.compile(\n",
        "    checkpointer=memory,\n",
        "    interrupt_before=[\"human\"],\n",
        ")"
      ],
      "metadata": {
        "id": "6_0oQwkLJdIf"
      },
      "execution_count": null,
      "outputs": []
    },
    {
      "cell_type": "code",
      "source": [
        "from IPython.display import Image, display\n",
        "\n",
        "try:\n",
        "    display(Image(graph.get_graph().draw_mermaid_png()))\n",
        "except Exception:\n",
        "    # This requires some extra dependencies and is optional\n",
        "    pass"
      ],
      "metadata": {
        "colab": {
          "base_uri": "https://localhost:8080/",
          "height": 308
        },
        "id": "7TBaRhc7zSpH",
        "outputId": "38d9304d-cecf-4d46-8140-88676bdc8f27"
      },
      "execution_count": null,
      "outputs": [
        {
          "output_type": "display_data",
          "data": {
            "image/jpeg": "[encoded data removed]",
            "text/plain": [
              "<IPython.core.display.Image object>"
            ]
          },
          "metadata": {}
        }
      ]
    },
    {
      "cell_type": "markdown",
      "source": [
        "Let's have our graph take a couple steps. Every step will be checkpointed in its state history:"
      ],
      "metadata": {
        "id": "ea2fES0GzgYR"
      }
    },
    {
      "cell_type": "code",
      "source": [
        "config = {\"configurable\": {\"thread_id\": \"7\"}}\n",
        "events = graph.stream(\n",
        "    {\n",
        "        \"messages\": [\n",
        "            (\"user\", \"Hi! I am learning AI Agents\")\n",
        "        ]\n",
        "    },\n",
        "    config,\n",
        "    stream_mode = \"values\",\n",
        ")\n",
        "for event in events:\n",
        "  if \"messages\" in event:\n",
        "    event[\"messages\"][-1].pretty_print()"
      ],
      "metadata": {
        "colab": {
          "base_uri": "https://localhost:8080/"
        },
        "id": "MY5h9D93zg32",
        "outputId": "05bee412-48c1-458a-b494-cbd7352a3cc0"
      },
      "execution_count": null,
      "outputs": [
        {
          "output_type": "stream",
          "name": "stdout",
          "text": [
            "================================\u001b[1m Human Message \u001b[0m=================================\n",
            "\n",
            "Hi! I am learning AI Agents\n",
            "==================================\u001b[1m Ai Message \u001b[0m==================================\n",
            "\n",
            "That's great! AI agents are a fascinating field. What specifically are you interested in learning about them?\n"
          ]
        }
      ]
    },
    {
      "cell_type": "code",
      "source": [
        "events = graph.stream(\n",
        "    {\n",
        "        \"messages\": [\n",
        "            (\"user\", \"Ya that's helpful. Maybe I'll build an autonomous agent with it!\")\n",
        "        ]\n",
        "    },\n",
        "    config,\n",
        "    stream_mode=\"values\",\n",
        ")\n",
        "for event in events:\n",
        "    if \"messages\" in event:\n",
        "        event[\"messages\"][-1].pretty_print()"
      ],
      "metadata": {
        "colab": {
          "base_uri": "https://localhost:8080/"
        },
        "id": "y05BNagt0s8I",
        "outputId": "3d59cf62-14fd-4b89-f1c0-bee16cf1f264"
      },
      "execution_count": null,
      "outputs": [
        {
          "output_type": "stream",
          "name": "stdout",
          "text": [
            "================================\u001b[1m Human Message \u001b[0m=================================\n",
            "\n",
            "Ya that's helpful. Maybe I'll build an autonomous agent with it!\n",
            "==================================\u001b[1m Ai Message \u001b[0m==================================\n",
            "\n",
            "That's an ambitious and exciting goal! Building an autonomous agent is a great way to delve deeper into AI. To help you get started, could you tell me more about what kind of autonomous agent you have in mind? \n",
            "\n",
            "For example:\n",
            "\n",
            "* **What tasks would your agent perform?** (e.g., playing a game, managing a schedule, controlling a robot, etc.)\n",
            "* **What kind of environment would your agent operate in?** (e.g., a virtual world, a physical space, a simulated environment, etc.)\n",
            "* **What kind of learning capabilities would your agent need?** (e.g., reinforcement learning, supervised learning, unsupervised learning, etc.)\n",
            "\n",
            "The more details you can provide, the better I can understand your vision and offer relevant guidance!\n"
          ]
        }
      ]
    },
    {
      "cell_type": "markdown",
      "source": [
        "Now that we've had the agent take a couple steps, we can `replay` the full state history to see everything that occurred."
      ],
      "metadata": {
        "id": "1gAGnLyW06m0"
      }
    },
    {
      "cell_type": "code",
      "source": [
        "to_replay = []\n",
        "for state in graph.get_state_history(config):\n",
        "  print(state)\n",
        "  to_replay.append(state)"
      ],
      "metadata": {
        "colab": {
          "base_uri": "https://localhost:8080/"
        },
        "id": "50lg_I_M1Gou",
        "outputId": "de0340d4-dc4b-443e-d631-e9718974a4be"
      },
      "execution_count": null,
      "outputs": [
        {
          "output_type": "stream",
          "name": "stdout",
          "text": [
            "StateSnapshot(values={'messages': [HumanMessage(content='Hi! I am learning AI Agents', additional_kwargs={}, response_metadata={}, id='e9f67ba9-c72f-44ff-ab65-8cace8278899'), AIMessage(content=\"That's great! AI agents are a fascinating field. What specifically are you interested in learning about them? \\n\", additional_kwargs={}, response_metadata={'prompt_feedback': {'block_reason': 0, 'safety_ratings': []}, 'finish_reason': 'STOP', 'safety_ratings': [{'category': 'HARM_CATEGORY_SEXUALLY_EXPLICIT', 'probability': 'NEGLIGIBLE', 'blocked': False}, {'category': 'HARM_CATEGORY_HATE_SPEECH', 'probability': 'NEGLIGIBLE', 'blocked': False}, {'category': 'HARM_CATEGORY_HARASSMENT', 'probability': 'NEGLIGIBLE', 'blocked': False}, {'category': 'HARM_CATEGORY_DANGEROUS_CONTENT', 'probability': 'NEGLIGIBLE', 'blocked': False}]}, id='run-5cac4a50-cd0c-45c5-a8ec-294b45c84a18-0', usage_metadata={'input_tokens': 162, 'output_tokens': 22, 'total_tokens': 184, 'input_token_details': {'cache_read': 0}}), HumanMessage(content=\"Ya that's helpful. Maybe I'll build an autonomous agent with it!\", additional_kwargs={}, response_metadata={}, id='d0e2b967-616e-4f3c-af82-2e91bd94105c'), AIMessage(content=\"That's an ambitious and exciting goal! Building an autonomous agent is a great way to delve deeper into AI. To help you get started, could you tell me more about what kind of autonomous agent you have in mind? \\n\\nFor example:\\n\\n* **What tasks would your agent perform?** (e.g., playing a game, managing a schedule, controlling a robot, etc.)\\n* **What kind of environment would your agent operate in?** (e.g., a virtual world, a physical space, a simulated environment, etc.)\\n* **What kind of learning capabilities would your agent need?** (e.g., reinforcement learning, supervised learning, unsupervised learning, etc.)\\n\\nThe more details you can provide, the better I can understand your vision and offer relevant guidance! \\n\", additional_kwargs={}, response_metadata={'prompt_feedback': {'block_reason': 0, 'safety_ratings': []}, 'finish_reason': 'STOP', 'safety_ratings': [{'category': 'HARM_CATEGORY_SEXUALLY_EXPLICIT', 'probability': 'NEGLIGIBLE', 'blocked': False}, {'category': 'HARM_CATEGORY_HATE_SPEECH', 'probability': 'NEGLIGIBLE', 'blocked': False}, {'category': 'HARM_CATEGORY_HARASSMENT', 'probability': 'NEGLIGIBLE', 'blocked': False}, {'category': 'HARM_CATEGORY_DANGEROUS_CONTENT', 'probability': 'NEGLIGIBLE', 'blocked': False}]}, id='run-275fc28d-b45c-4ae0-8cad-f0d953132177-0', usage_metadata={'input_tokens': 205, 'output_tokens': 163, 'total_tokens': 368, 'input_token_details': {'cache_read': 0}})], 'ask_human': False}, next=(), config={'configurable': {'thread_id': '7', 'checkpoint_ns': '', 'checkpoint_id': '1ef9e1e1-bf5b-6d4d-8004-32430357f49a'}}, metadata={'source': 'loop', 'writes': {'chatbot': {'messages': [AIMessage(content=\"That's an ambitious and exciting goal! Building an autonomous agent is a great way to delve deeper into AI. To help you get started, could you tell me more about what kind of autonomous agent you have in mind? \\n\\nFor example:\\n\\n* **What tasks would your agent perform?** (e.g., playing a game, managing a schedule, controlling a robot, etc.)\\n* **What kind of environment would your agent operate in?** (e.g., a virtual world, a physical space, a simulated environment, etc.)\\n* **What kind of learning capabilities would your agent need?** (e.g., reinforcement learning, supervised learning, unsupervised learning, etc.)\\n\\nThe more details you can provide, the better I can understand your vision and offer relevant guidance! \\n\", additional_kwargs={}, response_metadata={'prompt_feedback': {'block_reason': 0, 'safety_ratings': []}, 'finish_reason': 'STOP', 'safety_ratings': [{'category': 'HARM_CATEGORY_SEXUALLY_EXPLICIT', 'probability': 'NEGLIGIBLE', 'blocked': False}, {'category': 'HARM_CATEGORY_HATE_SPEECH', 'probability': 'NEGLIGIBLE', 'blocked': False}, {'category': 'HARM_CATEGORY_HARASSMENT', 'probability': 'NEGLIGIBLE', 'blocked': False}, {'category': 'HARM_CATEGORY_DANGEROUS_CONTENT', 'probability': 'NEGLIGIBLE', 'blocked': False}]}, id='run-275fc28d-b45c-4ae0-8cad-f0d953132177-0', usage_metadata={'input_tokens': 205, 'output_tokens': 163, 'total_tokens': 368, 'input_token_details': {'cache_read': 0}})], 'ask_human': False}}, 'thread_id': '7', 'step': 4, 'parents': {}}, created_at='2024-11-08T22:09:22.707137+00:00', parent_config={'configurable': {'thread_id': '7', 'checkpoint_ns': '', 'checkpoint_id': '1ef9e1e1-b548-6beb-8003-e2c7cf961a7a'}}, tasks=())\n",
            "StateSnapshot(values={'messages': [HumanMessage(content='Hi! I am learning AI Agents', additional_kwargs={}, response_metadata={}, id='e9f67ba9-c72f-44ff-ab65-8cace8278899'), AIMessage(content=\"That's great! AI agents are a fascinating field. What specifically are you interested in learning about them? \\n\", additional_kwargs={}, response_metadata={'prompt_feedback': {'block_reason': 0, 'safety_ratings': []}, 'finish_reason': 'STOP', 'safety_ratings': [{'category': 'HARM_CATEGORY_SEXUALLY_EXPLICIT', 'probability': 'NEGLIGIBLE', 'blocked': False}, {'category': 'HARM_CATEGORY_HATE_SPEECH', 'probability': 'NEGLIGIBLE', 'blocked': False}, {'category': 'HARM_CATEGORY_HARASSMENT', 'probability': 'NEGLIGIBLE', 'blocked': False}, {'category': 'HARM_CATEGORY_DANGEROUS_CONTENT', 'probability': 'NEGLIGIBLE', 'blocked': False}]}, id='run-5cac4a50-cd0c-45c5-a8ec-294b45c84a18-0', usage_metadata={'input_tokens': 162, 'output_tokens': 22, 'total_tokens': 184, 'input_token_details': {'cache_read': 0}}), HumanMessage(content=\"Ya that's helpful. Maybe I'll build an autonomous agent with it!\", additional_kwargs={}, response_metadata={}, id='d0e2b967-616e-4f3c-af82-2e91bd94105c')], 'ask_human': False}, next=('chatbot',), config={'configurable': {'thread_id': '7', 'checkpoint_ns': '', 'checkpoint_id': '1ef9e1e1-b548-6beb-8003-e2c7cf961a7a'}}, metadata={'source': 'loop', 'writes': None, 'thread_id': '7', 'step': 3, 'parents': {}}, created_at='2024-11-08T22:09:21.650720+00:00', parent_config={'configurable': {'thread_id': '7', 'checkpoint_ns': '', 'checkpoint_id': '1ef9e1e1-b53e-6ccd-8002-df3ff860da58'}}, tasks=(PregelTask(id='cf9be20c-eb8d-1c47-eeca-63dc5c699f57', name='chatbot', path=('__pregel_pull', 'chatbot'), error=None, interrupts=(), state=None, result={'messages': [AIMessage(content=\"That's an ambitious and exciting goal! Building an autonomous agent is a great way to delve deeper into AI. To help you get started, could you tell me more about what kind of autonomous agent you have in mind? \\n\\nFor example:\\n\\n* **What tasks would your agent perform?** (e.g., playing a game, managing a schedule, controlling a robot, etc.)\\n* **What kind of environment would your agent operate in?** (e.g., a virtual world, a physical space, a simulated environment, etc.)\\n* **What kind of learning capabilities would your agent need?** (e.g., reinforcement learning, supervised learning, unsupervised learning, etc.)\\n\\nThe more details you can provide, the better I can understand your vision and offer relevant guidance! \\n\", additional_kwargs={}, response_metadata={'prompt_feedback': {'block_reason': 0, 'safety_ratings': []}, 'finish_reason': 'STOP', 'safety_ratings': [{'category': 'HARM_CATEGORY_SEXUALLY_EXPLICIT', 'probability': 'NEGLIGIBLE', 'blocked': False}, {'category': 'HARM_CATEGORY_HATE_SPEECH', 'probability': 'NEGLIGIBLE', 'blocked': False}, {'category': 'HARM_CATEGORY_HARASSMENT', 'probability': 'NEGLIGIBLE', 'blocked': False}, {'category': 'HARM_CATEGORY_DANGEROUS_CONTENT', 'probability': 'NEGLIGIBLE', 'blocked': False}]}, id='run-275fc28d-b45c-4ae0-8cad-f0d953132177-0', usage_metadata={'input_tokens': 205, 'output_tokens': 163, 'total_tokens': 368, 'input_token_details': {'cache_read': 0}})], 'ask_human': False}),))\n",
            "StateSnapshot(values={'messages': [HumanMessage(content='Hi! I am learning AI Agents', additional_kwargs={}, response_metadata={}, id='e9f67ba9-c72f-44ff-ab65-8cace8278899'), AIMessage(content=\"That's great! AI agents are a fascinating field. What specifically are you interested in learning about them? \\n\", additional_kwargs={}, response_metadata={'prompt_feedback': {'block_reason': 0, 'safety_ratings': []}, 'finish_reason': 'STOP', 'safety_ratings': [{'category': 'HARM_CATEGORY_SEXUALLY_EXPLICIT', 'probability': 'NEGLIGIBLE', 'blocked': False}, {'category': 'HARM_CATEGORY_HATE_SPEECH', 'probability': 'NEGLIGIBLE', 'blocked': False}, {'category': 'HARM_CATEGORY_HARASSMENT', 'probability': 'NEGLIGIBLE', 'blocked': False}, {'category': 'HARM_CATEGORY_DANGEROUS_CONTENT', 'probability': 'NEGLIGIBLE', 'blocked': False}]}, id='run-5cac4a50-cd0c-45c5-a8ec-294b45c84a18-0', usage_metadata={'input_tokens': 162, 'output_tokens': 22, 'total_tokens': 184, 'input_token_details': {'cache_read': 0}})], 'ask_human': False}, next=('__start__',), config={'configurable': {'thread_id': '7', 'checkpoint_ns': '', 'checkpoint_id': '1ef9e1e1-b53e-6ccd-8002-df3ff860da58'}}, metadata={'source': 'input', 'writes': {'__start__': {'messages': [['user', \"Ya that's helpful. Maybe I'll build an autonomous agent with it!\"]]}}, 'thread_id': '7', 'step': 2, 'parents': {}}, created_at='2024-11-08T22:09:21.646668+00:00', parent_config={'configurable': {'thread_id': '7', 'checkpoint_ns': '', 'checkpoint_id': '1ef9e1e0-73da-6fcb-8001-7902b9030349'}}, tasks=(PregelTask(id='a4dfa606-da44-1192-3cfc-381fa0107dd8', name='__start__', path=('__pregel_pull', '__start__'), error=None, interrupts=(), state=None, result={'messages': [['user', \"Ya that's helpful. Maybe I'll build an autonomous agent with it!\"]]}),))\n",
            "StateSnapshot(values={'messages': [HumanMessage(content='Hi! I am learning AI Agents', additional_kwargs={}, response_metadata={}, id='e9f67ba9-c72f-44ff-ab65-8cace8278899'), AIMessage(content=\"That's great! AI agents are a fascinating field. What specifically are you interested in learning about them? \\n\", additional_kwargs={}, response_metadata={'prompt_feedback': {'block_reason': 0, 'safety_ratings': []}, 'finish_reason': 'STOP', 'safety_ratings': [{'category': 'HARM_CATEGORY_SEXUALLY_EXPLICIT', 'probability': 'NEGLIGIBLE', 'blocked': False}, {'category': 'HARM_CATEGORY_HATE_SPEECH', 'probability': 'NEGLIGIBLE', 'blocked': False}, {'category': 'HARM_CATEGORY_HARASSMENT', 'probability': 'NEGLIGIBLE', 'blocked': False}, {'category': 'HARM_CATEGORY_DANGEROUS_CONTENT', 'probability': 'NEGLIGIBLE', 'blocked': False}]}, id='run-5cac4a50-cd0c-45c5-a8ec-294b45c84a18-0', usage_metadata={'input_tokens': 162, 'output_tokens': 22, 'total_tokens': 184, 'input_token_details': {'cache_read': 0}})], 'ask_human': False}, next=(), config={'configurable': {'thread_id': '7', 'checkpoint_ns': '', 'checkpoint_id': '1ef9e1e0-73da-6fcb-8001-7902b9030349'}}, metadata={'source': 'loop', 'writes': {'chatbot': {'messages': [AIMessage(content=\"That's great! AI agents are a fascinating field. What specifically are you interested in learning about them? \\n\", additional_kwargs={}, response_metadata={'prompt_feedback': {'block_reason': 0, 'safety_ratings': []}, 'finish_reason': 'STOP', 'safety_ratings': [{'category': 'HARM_CATEGORY_SEXUALLY_EXPLICIT', 'probability': 'NEGLIGIBLE', 'blocked': False}, {'category': 'HARM_CATEGORY_HATE_SPEECH', 'probability': 'NEGLIGIBLE', 'blocked': False}, {'category': 'HARM_CATEGORY_HARASSMENT', 'probability': 'NEGLIGIBLE', 'blocked': False}, {'category': 'HARM_CATEGORY_DANGEROUS_CONTENT', 'probability': 'NEGLIGIBLE', 'blocked': False}]}, id='run-5cac4a50-cd0c-45c5-a8ec-294b45c84a18-0', usage_metadata={'input_tokens': 162, 'output_tokens': 22, 'total_tokens': 184, 'input_token_details': {'cache_read': 0}})], 'ask_human': False}}, 'thread_id': '7', 'step': 1, 'parents': {}}, created_at='2024-11-08T22:08:47.946507+00:00', parent_config={'configurable': {'thread_id': '7', 'checkpoint_ns': '', 'checkpoint_id': '1ef9e1e0-6fc0-640a-8000-76a2a376272f'}}, tasks=())\n",
            "StateSnapshot(values={'messages': [HumanMessage(content='Hi! I am learning AI Agents', additional_kwargs={}, response_metadata={}, id='e9f67ba9-c72f-44ff-ab65-8cace8278899')]}, next=('chatbot',), config={'configurable': {'thread_id': '7', 'checkpoint_ns': '', 'checkpoint_id': '1ef9e1e0-6fc0-640a-8000-76a2a376272f'}}, metadata={'source': 'loop', 'writes': None, 'thread_id': '7', 'step': 0, 'parents': {}}, created_at='2024-11-08T22:08:47.516127+00:00', parent_config={'configurable': {'thread_id': '7', 'checkpoint_ns': '', 'checkpoint_id': '1ef9e1e0-6fbb-6b35-bfff-91e48b17b639'}}, tasks=(PregelTask(id='834f1825-f5b8-4b9c-4773-093480d32ccd', name='chatbot', path=('__pregel_pull', 'chatbot'), error=None, interrupts=(), state=None, result={'messages': [AIMessage(content=\"That's great! AI agents are a fascinating field. What specifically are you interested in learning about them? \\n\", additional_kwargs={}, response_metadata={'prompt_feedback': {'block_reason': 0, 'safety_ratings': []}, 'finish_reason': 'STOP', 'safety_ratings': [{'category': 'HARM_CATEGORY_SEXUALLY_EXPLICIT', 'probability': 'NEGLIGIBLE', 'blocked': False}, {'category': 'HARM_CATEGORY_HATE_SPEECH', 'probability': 'NEGLIGIBLE', 'blocked': False}, {'category': 'HARM_CATEGORY_HARASSMENT', 'probability': 'NEGLIGIBLE', 'blocked': False}, {'category': 'HARM_CATEGORY_DANGEROUS_CONTENT', 'probability': 'NEGLIGIBLE', 'blocked': False}]}, id='run-5cac4a50-cd0c-45c5-a8ec-294b45c84a18-0', usage_metadata={'input_tokens': 162, 'output_tokens': 22, 'total_tokens': 184, 'input_token_details': {'cache_read': 0}})], 'ask_human': False}),))\n",
            "StateSnapshot(values={'messages': []}, next=('__start__',), config={'configurable': {'thread_id': '7', 'checkpoint_ns': '', 'checkpoint_id': '1ef9e1e0-6fbb-6b35-bfff-91e48b17b639'}}, metadata={'source': 'input', 'writes': {'__start__': {'messages': [['user', 'Hi! I am learning AI Agents']]}}, 'thread_id': '7', 'step': -1, 'parents': {}}, created_at='2024-11-08T22:08:47.514274+00:00', parent_config=None, tasks=(PregelTask(id='87a3fa57-0272-c95d-f49d-d8f5f5308042', name='__start__', path=('__pregel_pull', '__start__'), error=None, interrupts=(), state=None, result={'messages': [['user', 'Hi! I am learning AI Agents']]}),))\n"
          ]
        }
      ]
    },
    {
      "cell_type": "code",
      "source": [
        "to_replay = None\n",
        "for state in graph.get_state_history(config):\n",
        "    print(\"Num Messages: \", len(state.values[\"messages\"]), \"Next: \", state.next)\n",
        "    print(\"-\" * 80)\n",
        "    if len(state.values[\"messages\"]) == 1:\n",
        "        # We are somewhat arbitrarily selecting a specific state based on the number of chat messages in the state.\n",
        "        to_replay = state"
      ],
      "metadata": {
        "colab": {
          "base_uri": "https://localhost:8080/"
        },
        "id": "Pz3hOqx008c6",
        "outputId": "0a1b444f-f146-480d-d8be-a2701760443c"
      },
      "execution_count": null,
      "outputs": [
        {
          "output_type": "stream",
          "name": "stdout",
          "text": [
            "Num Messages:  4 Next:  ()\n",
            "--------------------------------------------------------------------------------\n",
            "Num Messages:  3 Next:  ('chatbot',)\n",
            "--------------------------------------------------------------------------------\n",
            "Num Messages:  2 Next:  ('__start__',)\n",
            "--------------------------------------------------------------------------------\n",
            "Num Messages:  2 Next:  ()\n",
            "--------------------------------------------------------------------------------\n",
            "Num Messages:  1 Next:  ('chatbot',)\n",
            "--------------------------------------------------------------------------------\n",
            "Num Messages:  0 Next:  ('__start__',)\n",
            "--------------------------------------------------------------------------------\n"
          ]
        }
      ]
    },
    {
      "cell_type": "markdown",
      "source": [
        "**Notice** that checkpoints are saved for every step of the graph. This **spans invocations** so you can rewind across a full thread's history. We've picked out `to_replay` as a state to resume from. This is the state after the `chatbot` node in the second graph invocation above.\n",
        "\n",
        "Resuming from this point should call the **action** node next."
      ],
      "metadata": {
        "id": "Zc7WaIY32F32"
      }
    },
    {
      "cell_type": "code",
      "source": [
        "print(to_replay.next)\n",
        "print(to_replay.config)"
      ],
      "metadata": {
        "colab": {
          "base_uri": "https://localhost:8080/"
        },
        "id": "nmdCI-w22fa7",
        "outputId": "392e62f5-5e21-43c1-c842-12248d76aa67"
      },
      "execution_count": null,
      "outputs": [
        {
          "output_type": "stream",
          "name": "stdout",
          "text": [
            "('chatbot',)\n",
            "{'configurable': {'thread_id': '7', 'checkpoint_ns': '', 'checkpoint_id': '1ef9e1e0-6fc0-640a-8000-76a2a376272f'}}\n"
          ]
        }
      ]
    },
    {
      "cell_type": "code",
      "source": [
        "print(to_replay)"
      ],
      "metadata": {
        "colab": {
          "base_uri": "https://localhost:8080/"
        },
        "id": "vYZw9_mK3exJ",
        "outputId": "ce1b7e9e-a530-4e01-e08a-80c8e2d107dd"
      },
      "execution_count": null,
      "outputs": [
        {
          "output_type": "stream",
          "name": "stdout",
          "text": [
            "StateSnapshot(values={'messages': [HumanMessage(content='Hi! I am learning AI Agents', additional_kwargs={}, response_metadata={}, id='e9f67ba9-c72f-44ff-ab65-8cace8278899')]}, next=('chatbot',), config={'configurable': {'thread_id': '7', 'checkpoint_ns': '', 'checkpoint_id': '1ef9e1e0-6fc0-640a-8000-76a2a376272f'}}, metadata={'source': 'loop', 'writes': None, 'thread_id': '7', 'step': 0, 'parents': {}}, created_at='2024-11-08T22:08:47.516127+00:00', parent_config={'configurable': {'thread_id': '7', 'checkpoint_ns': '', 'checkpoint_id': '1ef9e1e0-6fbb-6b35-bfff-91e48b17b639'}}, tasks=(PregelTask(id='834f1825-f5b8-4b9c-4773-093480d32ccd', name='chatbot', path=('__pregel_pull', 'chatbot'), error=None, interrupts=(), state=None, result={'messages': [AIMessage(content=\"That's great! AI agents are a fascinating field. What specifically are you interested in learning about them? \\n\", additional_kwargs={}, response_metadata={'prompt_feedback': {'block_reason': 0, 'safety_ratings': []}, 'finish_reason': 'STOP', 'safety_ratings': [{'category': 'HARM_CATEGORY_SEXUALLY_EXPLICIT', 'probability': 'NEGLIGIBLE', 'blocked': False}, {'category': 'HARM_CATEGORY_HATE_SPEECH', 'probability': 'NEGLIGIBLE', 'blocked': False}, {'category': 'HARM_CATEGORY_HARASSMENT', 'probability': 'NEGLIGIBLE', 'blocked': False}, {'category': 'HARM_CATEGORY_DANGEROUS_CONTENT', 'probability': 'NEGLIGIBLE', 'blocked': False}]}, id='run-5cac4a50-cd0c-45c5-a8ec-294b45c84a18-0', usage_metadata={'input_tokens': 162, 'output_tokens': 22, 'total_tokens': 184, 'input_token_details': {'cache_read': 0}})], 'ask_human': False}),))\n"
          ]
        }
      ]
    },
    {
      "cell_type": "markdown",
      "source": [
        "**Notice** that the checkpoint's config `(to_replay.config)` contains a `checkpoint_id` **timestamp**. Providing this `checkpoint_id` value tells LangGraph's checkpointer to **load** the state from that moment in time. Let's try it below:"
      ],
      "metadata": {
        "id": "04_87rtN3G9j"
      }
    },
    {
      "cell_type": "code",
      "source": [
        "# The `checkpoint_id` in the `to_replay.config` corresponds to a state we've persisted to our checkpointer.\n",
        "for event in graph.stream(None, to_replay.config, stream_mode=\"values\"):\n",
        "    if \"messages\" in event:\n",
        "        event[\"messages\"][-1].pretty_print()"
      ],
      "metadata": {
        "colab": {
          "base_uri": "https://localhost:8080/"
        },
        "id": "A6jNrry03UqQ",
        "outputId": "fe2ee37a-6281-4dfa-88ca-e44a42289294"
      },
      "execution_count": null,
      "outputs": [
        {
          "output_type": "stream",
          "name": "stdout",
          "text": [
            "================================\u001b[1m Human Message \u001b[0m=================================\n",
            "\n",
            "Hi! I am learning AI Agents\n",
            "==================================\u001b[1m Ai Message \u001b[0m==================================\n",
            "\n",
            "That's great! AI agents are a fascinating field. What specifically are you interested in learning about?\n"
          ]
        }
      ]
    },
    {
      "cell_type": "markdown",
      "source": [
        "**Notice** that the graph resumed execution from the `**action**` node. You can tell this is the case since the first value printed above is the response from our search engine tool."
      ],
      "metadata": {
        "id": "YzMIxVNQ3sNL"
      }
    },
    {
      "cell_type": "code",
      "source": [],
      "metadata": {
        "id": "CWPN_YH83zJR"
      },
      "execution_count": null,
      "outputs": []
    }
  ]
}